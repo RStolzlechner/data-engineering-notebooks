{
 "cells": [
  {
   "cell_type": "markdown",
   "id": "01f0e9cd",
   "metadata": {},
   "source": [
    "Frage: how many rides each day are taken by different types of Citi Bikes riders?"
   ]
  },
  {
   "cell_type": "markdown",
   "id": "1f79e130",
   "metadata": {
    "ExecuteTime": {
     "end_time": "2024-04-04T11:52:50.054100Z",
     "start_time": "2024-04-04T11:52:50.048189Z"
    }
   },
   "source": [
    "### Pseudocode\n",
    "\n",
    "question: How many Citi Bike rides each day are taken by subscribers versus customers\n",
    "\n",
    "answer: choose a single day of rides to examine.\n",
    "the dataset used for this exercise was generated from the original Citi Bike system date found hereL http://s3.amazonaws.com/tripdata/index.html\n",
    "filename: 202009-citibike-tripdata.csv.zip\n",
    "\n",
    "program Outline:\n",
    "1. read in the data file: 202009CitibikeTripdataExample.csv\n",
    "2. create variables to count: subscribers, customers and other\n",
    "3. for each row in the file:\n",
    "    a. If the \"User Type\" is \"Subscriber\" add 1 to \"subscriber_count\"\n",
    "    b. If the \"User Type\" is \"Customer\" add 1 to \"customer_count\"\n",
    "    a. Otherwise, add 1 to \"other_count\"\n",
    "4. print out my results"
   ]
  },
  {
   "cell_type": "code",
   "execution_count": null,
   "id": "86c84cdd",
   "metadata": {},
   "outputs": [],
   "source": []
  }
 ],
 "metadata": {
  "kernelspec": {
   "display_name": "Python 3 (ipykernel)",
   "language": "python",
   "name": "python3"
  },
  "language_info": {
   "codemirror_mode": {
    "name": "ipython",
    "version": 3
   },
   "file_extension": ".py",
   "mimetype": "text/x-python",
   "name": "python",
   "nbconvert_exporter": "python",
   "pygments_lexer": "ipython3",
   "version": "3.10.8"
  },
  "toc": {
   "base_numbering": 1,
   "nav_menu": {},
   "number_sections": true,
   "sideBar": true,
   "skip_h1_title": false,
   "title_cell": "Table of Contents",
   "title_sidebar": "Contents",
   "toc_cell": false,
   "toc_position": {},
   "toc_section_display": true,
   "toc_window_display": false
  }
 },
 "nbformat": 4,
 "nbformat_minor": 5
}
