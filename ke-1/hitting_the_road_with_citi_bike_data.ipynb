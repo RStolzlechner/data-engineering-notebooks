{
 "cells": [
  {
   "cell_type": "markdown",
   "id": "375f76b8",
   "metadata": {},
   "source": [
    "Frage: how many rides each day are taken by different types of Citi Bikes riders?"
   ]
  },
  {
   "cell_type": "markdown",
   "id": "eb9e9eef",
   "metadata": {
    "ExecuteTime": {
     "end_time": "2024-04-04T11:52:50.054100Z",
     "start_time": "2024-04-04T11:52:50.048189Z"
    }
   },
   "source": [
    "### Pseudocode\n",
    "\n",
    "question: How many Citi Bike rides each day are taken by subscribers versus customers\n",
    "\n",
    "answer: choose a single day of rides to examine.\n",
    "the dataset used for this exercise was generated from the original Citi Bike system date found hereL http://s3.amazonaws.com/tripdata/index.html\n",
    "filename: 202009-citibike-tripdata.csv.zip\n",
    "\n",
    "program Outline:\n",
    "1. read in the data file: 202009CitibikeTripdataExample.csv\n",
    "2. create variables to count: subscribers, customers and other\n",
    "3. for each row in the file:\n",
    "    a. If the \"User Type\" is \"Subscriber\" add 1 to \"subscriber_count\"\n",
    "    b. If the \"User Type\" is \"Customer\" add 1 to \"customer_count\"\n",
    "    a. Otherwise, add 1 to \"other_count\"\n",
    "4. print out my results"
   ]
  },
  {
   "cell_type": "code",
   "execution_count": 14,
   "id": "faad394e",
   "metadata": {
    "ExecuteTime": {
     "end_time": "2024-04-04T12:11:51.442043Z",
     "start_time": "2024-04-04T12:11:51.428504Z"
    }
   },
   "outputs": [
    {
     "name": "stdout",
     "output_type": "stream",
     "text": [
      "['tripduration', 'starttime', 'stoptime', 'start station id', 'start station name', 'start station latitude', 'start station longitude', 'end station id', 'end station name', 'end station latitude', 'end station longitude', 'bikeid', 'usertype', 'birth year', 'gender']\n"
     ]
    }
   ],
   "source": [
    "# read file and print filednames\n",
    "import csv\n",
    "\n",
    "source_file = open('../data/JC-202009-citibike-tripdata.csv', 'r')\n",
    "citibike_reader = csv.DictReader(source_file)\n",
    "\n",
    "print(citibike_reader.fieldnames)"
   ]
  },
  {
   "cell_type": "code",
   "execution_count": 19,
   "id": "ce4e5ccd",
   "metadata": {
    "ExecuteTime": {
     "end_time": "2024-04-04T12:15:36.244771Z",
     "start_time": "2024-04-04T12:15:35.988705Z"
    }
   },
   "outputs": [],
   "source": [
    "subscriber_cnt = 0\n",
    "customer_cnt = 0\n",
    "other_cnt = 0 \n",
    "\n",
    "for a_row in citibike_reader:\n",
    "    if a_row['usertype'] == 'Subscriber': subscriber_cnt+=1\n",
    "    elif a_row['usertype'] == 'Customer': customer_cnt+=1\n",
    "    else: other_cnt = 0"
   ]
  },
  {
   "cell_type": "code",
   "execution_count": 20,
   "id": "a6b3a573",
   "metadata": {
    "ExecuteTime": {
     "end_time": "2024-04-04T12:18:21.149095Z",
     "start_time": "2024-04-04T12:18:21.143480Z"
    }
   },
   "outputs": [
    {
     "name": "stdout",
     "output_type": "stream",
     "text": [
      "Number of subscribers: 35284\n",
      "Number of customers: 18549\n",
      "Others: 0\n"
     ]
    }
   ],
   "source": [
    "print(f'Number of subscribers: {subscriber_cnt}')\n",
    "print(f'Number of customers: {customer_cnt}')\n",
    "print(f'Others: {other_cnt}')"
   ]
  }
 ],
 "metadata": {
  "kernelspec": {
   "display_name": "Python 3 (ipykernel)",
   "language": "python",
   "name": "python3"
  },
  "language_info": {
   "codemirror_mode": {
    "name": "ipython",
    "version": 3
   },
   "file_extension": ".py",
   "mimetype": "text/x-python",
   "name": "python",
   "nbconvert_exporter": "python",
   "pygments_lexer": "ipython3",
   "version": "3.10.8"
  },
  "toc": {
   "base_numbering": 1,
   "nav_menu": {},
   "number_sections": true,
   "sideBar": true,
   "skip_h1_title": false,
   "title_cell": "Table of Contents",
   "title_sidebar": "Contents",
   "toc_cell": false,
   "toc_position": {},
   "toc_section_display": true,
   "toc_window_display": false
  }
 },
 "nbformat": 4,
 "nbformat_minor": 5
}
