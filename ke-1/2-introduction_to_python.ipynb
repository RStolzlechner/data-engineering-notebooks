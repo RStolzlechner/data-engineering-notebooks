{
 "cells": [
  {
   "cell_type": "markdown",
   "id": "356478b1",
   "metadata": {},
   "source": [
    "# Introduction to Python\n",
    "\n",
    "\n",
    "## The Programming \"Parts of Speech\"\n",
    "\n",
    "### Nouns = Variables\n",
    "\n",
    "Types:\n",
    "- Number\n",
    "- String\n",
    "- List\n",
    "- Dictionary\n",
    "- Boolean"
   ]
  },
  {
   "cell_type": "code",
   "execution_count": 13,
   "id": "bc35d6c9",
   "metadata": {
    "ExecuteTime": {
     "end_time": "2024-04-04T08:47:15.827476Z",
     "start_time": "2024-04-04T08:47:15.820305Z"
    }
   },
   "outputs": [
    {
     "data": {
      "text/plain": [
       "True"
      ]
     },
     "execution_count": 13,
     "metadata": {},
     "output_type": "execute_result"
    }
   ],
   "source": [
    "# a number\n",
    "24\n",
    "# a string\n",
    "'i am a string'\n",
    "# a list\n",
    "[1, 'a list item', True]\n",
    "# a dictionary\n",
    "{'item1': 1, 'item2': False}\n",
    "#a Boolean\n",
    "True"
   ]
  },
  {
   "cell_type": "code",
   "execution_count": 17,
   "id": "a79669ab",
   "metadata": {
    "ExecuteTime": {
     "end_time": "2024-04-04T09:11:28.564613Z",
     "start_time": "2024-04-04T09:11:28.558318Z"
    }
   },
   "outputs": [
    {
     "name": "stdout",
     "output_type": "stream",
     "text": [
      "Susan E. McGregor\n"
     ]
    }
   ],
   "source": [
    "#naming a variable\n",
    "author = 'Susan E. McGregor'\n",
    "print(author)"
   ]
  },
  {
   "cell_type": "markdown",
   "id": "268eb84c",
   "metadata": {},
   "source": [
    "Gute Variablennamen sollten:\n",
    "- beschreibend,\n",
    "- einzigartig (im file oder programm) und\n",
    "- lesbar sein."
   ]
  },
  {
   "cell_type": "markdown",
   "id": "2ab4b335",
   "metadata": {},
   "source": [
    "### Verbs = Functions"
   ]
  },
  {
   "cell_type": "code",
   "execution_count": 27,
   "id": "f11b054e",
   "metadata": {
    "ExecuteTime": {
     "end_time": "2024-04-04T09:19:46.159841Z",
     "start_time": "2024-04-04T09:19:46.153469Z"
    }
   },
   "outputs": [
    {
     "data": {
      "text/plain": [
       "['a', 's']"
      ]
     },
     "execution_count": 27,
     "metadata": {},
     "output_type": "execute_result"
    }
   ],
   "source": [
    "#Method:\n",
    "'abs'.split('b')"
   ]
  },
  {
   "cell_type": "code",
   "execution_count": 29,
   "id": "81f4a036",
   "metadata": {
    "ExecuteTime": {
     "end_time": "2024-04-04T09:19:54.130763Z",
     "start_time": "2024-04-04T09:19:54.125710Z"
    }
   },
   "outputs": [
    {
     "name": "stdout",
     "output_type": "stream",
     "text": [
      "Servus\n"
     ]
    }
   ],
   "source": [
    "#Function:\n",
    "print('Servus')"
   ]
  },
  {
   "cell_type": "code",
   "execution_count": 30,
   "id": "5b5371b8",
   "metadata": {
    "ExecuteTime": {
     "end_time": "2024-04-04T09:36:49.290361Z",
     "start_time": "2024-04-04T09:36:49.285956Z"
    }
   },
   "outputs": [],
   "source": [
    "def greetings(a_name):\n",
    "    print('hello ' + a_name)"
   ]
  },
  {
   "cell_type": "code",
   "execution_count": 31,
   "id": "4f5c4e08",
   "metadata": {
    "ExecuteTime": {
     "end_time": "2024-04-04T09:36:56.495560Z",
     "start_time": "2024-04-04T09:36:56.490815Z"
    }
   },
   "outputs": [
    {
     "name": "stdout",
     "output_type": "stream",
     "text": [
      "hello ricardo\n"
     ]
    }
   ],
   "source": [
    "greetings('ricardo')"
   ]
  },
  {
   "cell_type": "markdown",
   "id": "2031e66a",
   "metadata": {},
   "source": [
    "### Taking Control: Loops and Conditionals"
   ]
  },
  {
   "cell_type": "code",
   "execution_count": 1,
   "id": "8f43ac36",
   "metadata": {
    "ExecuteTime": {
     "end_time": "2024-04-04T09:55:29.318577Z",
     "start_time": "2024-04-04T09:55:29.303115Z"
    }
   },
   "outputs": [
    {
     "name": "stdout",
     "output_type": "stream",
     "text": [
      "The page count is:  <built-in function sum>\n"
     ]
    }
   ],
   "source": [
    "page_counts = [28, 32, 44, 23, 56, 32, 12, 34, 30]\n",
    "\n",
    "sum1 = 0;\n",
    "for page_counter in page_counts:\n",
    "    sum1 += page_counter;    \n",
    "\n",
    "print('The page count is: ', sum)"
   ]
  },
  {
   "cell_type": "code",
   "execution_count": 3,
   "id": "ec6daf97",
   "metadata": {
    "ExecuteTime": {
     "end_time": "2024-04-04T09:55:36.705410Z",
     "start_time": "2024-04-04T09:55:36.699902Z"
    }
   },
   "outputs": [
    {
     "name": "stdout",
     "output_type": "stream",
     "text": [
      "291\n"
     ]
    }
   ],
   "source": [
    "sum2 = sum(page_counts)\n",
    "print(sum2)"
   ]
  },
  {
   "cell_type": "code",
   "execution_count": 15,
   "id": "f359c4ed",
   "metadata": {
    "ExecuteTime": {
     "end_time": "2024-04-04T11:04:08.312123Z",
     "start_time": "2024-04-04T11:04:08.304902Z"
    }
   },
   "outputs": [
    {
     "name": "stdout",
     "output_type": "stream",
     "text": [
      "More than 30: 5\n",
      "Less or equal than 30: 4\n"
     ]
    }
   ],
   "source": [
    "page_counts = [28, 32, 44, 23, 56, 32, 12, 34, 30]\n",
    "\n",
    "more_than_30 = 0\n",
    "less_or_equal_30 = 0\n",
    "\n",
    "for page_count in page_counts:\n",
    "    if(page_count > 30):\n",
    "        more_than_30 += 1\n",
    "    else: \n",
    "        less_or_equal_30 += 1\n",
    "        \n",
    "print(f'More than 30: {more_than_30}')\n",
    "print(f'Less or equal than 30: {less_or_equal_30}')"
   ]
  },
  {
   "cell_type": "markdown",
   "id": "71ab2f23",
   "metadata": {},
   "source": [
    "## Understanding Errors"
   ]
  },
  {
   "cell_type": "markdown",
   "id": "fd08abc7",
   "metadata": {},
   "source": [
    "SYNTAX ERRORS:"
   ]
  },
  {
   "cell_type": "code",
   "execution_count": 23,
   "id": "68a6bb76",
   "metadata": {
    "ExecuteTime": {
     "end_time": "2024-04-04T11:10:42.541998Z",
     "start_time": "2024-04-04T11:10:42.535982Z"
    }
   },
   "outputs": [
    {
     "ename": "SyntaxError",
     "evalue": "invalid syntax. Perhaps you forgot a comma? (1514463275.py, line 4)",
     "output_type": "error",
     "traceback": [
      "\u001b[0;36m  Cell \u001b[0;32mIn[23], line 4\u001b[0;36m\u001b[0m\n\u001b[0;31m    'a': 1\u001b[0m\n\u001b[0m         ^\u001b[0m\n\u001b[0;31mSyntaxError\u001b[0m\u001b[0;31m:\u001b[0m invalid syntax. Perhaps you forgot a comma?\n"
     ]
    }
   ],
   "source": [
    "print('this is not printed')\n",
    "#Syntax Error (no comma between a and b)\n",
    "dist = {\n",
    "    'a': 1\n",
    "    'b': 2\n",
    "}"
   ]
  },
  {
   "cell_type": "markdown",
   "id": "b2c45253",
   "metadata": {},
   "source": [
    "RUNTIME ERRORS:"
   ]
  },
  {
   "cell_type": "code",
   "execution_count": 21,
   "id": "4f2609b6",
   "metadata": {
    "ExecuteTime": {
     "end_time": "2024-04-04T11:10:14.149557Z",
     "start_time": "2024-04-04T11:10:14.119915Z"
    }
   },
   "outputs": [
    {
     "name": "stdout",
     "output_type": "stream",
     "text": [
      "this is printed\n"
     ]
    },
    {
     "ename": "NameError",
     "evalue": "name 'undef_var' is not defined",
     "output_type": "error",
     "traceback": [
      "\u001b[0;31m---------------------------------------------------------------------------\u001b[0m",
      "\u001b[0;31mNameError\u001b[0m                                 Traceback (most recent call last)",
      "Cell \u001b[0;32mIn[21], line 3\u001b[0m\n\u001b[1;32m      1\u001b[0m \u001b[38;5;66;03m#Runtime Error (undefined var)\u001b[39;00m\n\u001b[1;32m      2\u001b[0m \u001b[38;5;28mprint\u001b[39m(\u001b[38;5;124m'\u001b[39m\u001b[38;5;124mthis is printed\u001b[39m\u001b[38;5;124m'\u001b[39m)\n\u001b[0;32m----> 3\u001b[0m \u001b[38;5;28mprint\u001b[39m(\u001b[43mundef_var\u001b[49m)\n",
      "\u001b[0;31mNameError\u001b[0m: name 'undef_var' is not defined"
     ]
    }
   ],
   "source": [
    "print('this is printed')\n",
    "#Runtime Error (undefined var)\n",
    "print(undef_var)"
   ]
  },
  {
   "cell_type": "markdown",
   "id": "3e32d687",
   "metadata": {},
   "source": [
    "LOGIC ERRORS:"
   ]
  },
  {
   "cell_type": "code",
   "execution_count": 25,
   "id": "0278fa3f",
   "metadata": {
    "ExecuteTime": {
     "end_time": "2024-04-04T11:23:40.708127Z",
     "start_time": "2024-04-04T11:23:40.700325Z"
    }
   },
   "outputs": [
    {
     "name": "stdout",
     "output_type": "stream",
     "text": [
      "More than 30: 5\n",
      "Less or equal than 30: 3\n"
     ]
    }
   ],
   "source": [
    "page_counts = [28, 32, 44, 23, 56, 32, 12, 34, 30]\n",
    "\n",
    "more_than_30 = 0\n",
    "less_or_equal_30 = 0\n",
    "\n",
    "for page_count in page_counts:\n",
    "    if(page_count > 30):\n",
    "        more_than_30 += 1\n",
    "    if (page_count < 30): #Logic Error (it will not count values = 30)\n",
    "        less_or_equal_30 += 1\n",
    "        \n",
    "print(f'More than 30: {more_than_30}')\n",
    "print(f'Less or equal than 30: {less_or_equal_30}')"
   ]
  },
  {
   "cell_type": "code",
   "execution_count": null,
   "id": "de8080e2",
   "metadata": {},
   "outputs": [],
   "source": []
  }
 ],
 "metadata": {
  "kernelspec": {
   "display_name": "Python 3 (ipykernel)",
   "language": "python",
   "name": "python3"
  },
  "language_info": {
   "codemirror_mode": {
    "name": "ipython",
    "version": 3
   },
   "file_extension": ".py",
   "mimetype": "text/x-python",
   "name": "python",
   "nbconvert_exporter": "python",
   "pygments_lexer": "ipython3",
   "version": "3.10.8"
  },
  "toc": {
   "base_numbering": 1,
   "nav_menu": {},
   "number_sections": true,
   "sideBar": true,
   "skip_h1_title": false,
   "title_cell": "Table of Contents",
   "title_sidebar": "Contents",
   "toc_cell": false,
   "toc_position": {},
   "toc_section_display": true,
   "toc_window_display": false
  }
 },
 "nbformat": 4,
 "nbformat_minor": 5
}
