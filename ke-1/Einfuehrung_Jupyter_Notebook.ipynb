{
 "cells": [
  {
   "cell_type": "markdown",
   "metadata": {},
   "source": [
    "# Einführung in Jupyter Notebooks und Docker\n",
    "In diesem Kurs arbeiten wir mit Jupyter Notebooks, einem typischen Werkzeug für Data Scientists. Falls Sie bisher noch nicht damit gearbeitet haben, bietet dieses Notebook eine kurze Einführung.\n",
    "\n",
    "Da wir die Software, die für die Bearbeitung der Kurseinheiten benötigt wird, als Docker-Images bereitstellen, biteten wir an dieser Stelle ebenfalls eine kurze Einführung in den Umgang mit Docker-Containern an."
   ]
  },
  {
   "cell_type": "markdown",
   "metadata": {},
   "source": [
    "## Jupyter Notebooks\n",
    "In diesem Abschnitt gehen wir zunächst auf die Grundlagen im Umgang mit Jupyter-Notebooks ein."
   ]
  },
  {
   "cell_type": "markdown",
   "metadata": {},
   "source": [
    "### Modi\n",
    "Es gibt einen `command-mode` (Zellen sind Blau) und einen `edit-mode` (Zellen sind grün). \n",
    "\n",
    "Mit *Enter* oder einem *Doppelklick* kann vom `command-mode` in den `edit-mode` gewechselt werden. In diesem Modus können die Zellen bearbeitet und verändert werden. Mit *Esc* wird wieder zurück in den `command-mode` gewechselt. Dort können z.B. neue Zellen hinzugefügt oder bestehende gelöscht werden. Mit *Strg + Enter* oder *Shift + Enter* wird die Zelle ausgeführt und es wird autmatisch in den `command-mode` gewechselt. Bei *Shift + Enter* wird außerdem automatisch in die nächste Zelle gesprungen."
   ]
  },
  {
   "cell_type": "markdown",
   "metadata": {},
   "source": [
    "### Zellen-Arten\n",
    "Es gibt drei verschiedene Arten von Zellen:\n",
    "- Markdown\n",
    "- Code\n",
    "- Raw\n",
    "\n",
    "Im Folgenden wird für jede Zelle ein Beispiel gegeben:"
   ]
  },
  {
   "cell_type": "markdown",
   "metadata": {},
   "source": [
    "**Dies ist eine Markdown-Zelle.** Die Aufgabenstellungen dieser Kurseinheit werden immer in Markdown-Zellen gestellt. Die üblichen Markdown-Befehle werden von Jupyter Notebooks unterstützt."
   ]
  },
  {
   "cell_type": "code",
   "execution_count": 1,
   "metadata": {
    "ExecuteTime": {
     "end_time": "2024-04-07T07:11:36.781557Z",
     "start_time": "2024-04-07T07:11:36.768460Z"
    },
    "vscode": {
     "languageId": "python"
    }
   },
   "outputs": [
    {
     "name": "stdout",
     "output_type": "stream",
     "text": [
      "Hello world\n"
     ]
    }
   ],
   "source": [
    "# Dies ist eine Code-Zelle. Hier kann z.B. Python-Code geschrieben und ausgeführt werden (Strg + Enter)\n",
    "print(\"Hello world\")"
   ]
  },
  {
   "cell_type": "raw",
   "metadata": {},
   "source": [
    "Dies ist eine Raw-Zelle. Wir verwenden diesen Zellen-Typ in der Kursarbeit bei Textfragen. Ihre Antwort können Sie dann immer in die angegebenen Raw-Zellen schreiben."
   ]
  },
  {
   "cell_type": "markdown",
   "metadata": {},
   "source": [
    "### Shortcuts\n",
    "\n",
    "Im Folgenden finden Sie eine Übersicht über einige der wichtigsten Shortcuts. \n",
    "\n",
    "#### Command Mode\n",
    "\n",
    "Short-cut | Funktion\n",
    ":--|:--\n",
    "Enter | In den `edit-mode` wechseln\n",
    "a | Zelle darüber einfügen (*above*)\n",
    "b | Zelle darunter einfügen (*below*)\n",
    "Strg + Enter | Zelle ausführen\n",
    "Shift + Enter | Zelle ausführen und zur nächsten springen\n",
    "Shift + Pfeiltasten | Mehrere Zellen markieren\n",
    "Shift + m | Zellen verbinden (*merge*)\n",
    "dd | Zelle löschen\n",
    "c | Zelle kopieren\n",
    "x | Zelle ausschneiden\n",
    "v | Zelle einfügen\n",
    "z | Rückgängig\n",
    "m | Zelle zu Markdown-Zelle machen\n",
    "y | Zelle zu Code-Zelle machen\n",
    "r | Zelle zu Raw-Plaintext-Zelle machen\n",
    "\n",
    "#### Edit Mode\n",
    "\n",
    "Short-cut | Funktion\n",
    ":--|:--\n",
    "Esc | In den `command-mode` wechseln\n",
    "Strg + Shift + - | Zelle am Cursor splitten\n",
    "Alt + Maus | Multiline Cursor"
   ]
  },
  {
   "cell_type": "raw",
   "metadata": {},
   "source": [
    "Dies ist eine Raw-Zelle. Wir verwenden diesen Zellen-Typ in der Kursarbeit bei Textfragen. Ihre Antwort können Sie dann imddmer in die angegebenen Raw-Zellen schreiben."
   ]
  },
  {
   "cell_type": "markdown",
   "metadata": {},
   "source": [
    "### Code-Zellen\n",
    "\n",
    "Code-Zellen beinhalten Python-Code. Sie können in beliebiger Reihenfolge ausgeführt werden. Werden in einer Zellen Variablen oder Funktionen erstellt, so sind diese im gesamten Notebook verfügbar."
   ]
  },
  {
   "cell_type": "code",
   "execution_count": 2,
   "metadata": {
    "ExecuteTime": {
     "end_time": "2024-04-07T07:15:12.947549Z",
     "start_time": "2024-04-07T07:15:12.943359Z"
    },
    "vscode": {
     "languageId": "python"
    }
   },
   "outputs": [],
   "source": [
    "ich_bin_eine_variable = \"Ich bin im gesamten Notebook verfügbar!\""
   ]
  },
  {
   "cell_type": "code",
   "execution_count": 3,
   "metadata": {
    "ExecuteTime": {
     "end_time": "2024-04-07T07:15:14.563951Z",
     "start_time": "2024-04-07T07:15:14.559128Z"
    },
    "vscode": {
     "languageId": "python"
    }
   },
   "outputs": [
    {
     "name": "stdout",
     "output_type": "stream",
     "text": [
      "Ich bin im gesamten Notebook verfügbar!\n"
     ]
    }
   ],
   "source": [
    "print(ich_bin_eine_variable)"
   ]
  },
  {
   "cell_type": "markdown",
   "metadata": {},
   "source": [
    "Wenn eine Zelle im rechnenden Zustand ist, wird dies durch einen Stern verdeutlich: `In[*]`"
   ]
  },
  {
   "cell_type": "code",
   "execution_count": 5,
   "metadata": {
    "ExecuteTime": {
     "end_time": "2024-04-07T07:15:41.959627Z",
     "start_time": "2024-04-07T07:15:36.950801Z"
    },
    "vscode": {
     "languageId": "python"
    }
   },
   "outputs": [],
   "source": [
    "import time\n",
    "time.sleep(5)"
   ]
  },
  {
   "cell_type": "markdown",
   "metadata": {},
   "source": [
    "Wenn die Ausführung beendet ist, wird in Klammern eine Zahl angezeigt. Diese zeigt an, wie viele Zellen bereits ausgeführt wurden. Wird die Zelle beispielsweise als vierte Zelle ausgeführt, wird danach `In[4]` angezeigt. Führt man die gleiche Zelle nochmal aus, ändert es sich zu `In[5]`.\n",
    "\n",
    "Werden mehrere Zellen hintereinander ausgeführt, so werden diese alle als rechnend (`In[*]`) angezeigt, auch wenn evtl. keine Berechnung durchgeführt wird, sondern eine Zelle ledliglich auf das Ende der Ausführung der vorherigen Zelle wartet.\n",
    "\n",
    "Sollte eine Berechnung zu lange dauern, kann sie im Zweifel auch über die Schaltfläche des Notebooks abgebrochen werden."
   ]
  },
  {
   "cell_type": "markdown",
   "metadata": {},
   "source": [
    "### Beispiele\n",
    "Im Folgenden sind nochmal Beispiele der verschiedenen Zellen-Arten aufgeführt."
   ]
  },
  {
   "cell_type": "markdown",
   "metadata": {},
   "source": [
    "#### Markdown-Zellen"
   ]
  },
  {
   "cell_type": "markdown",
   "metadata": {},
   "source": [
    "Tabellen:"
   ]
  },
  {
   "cell_type": "markdown",
   "metadata": {},
   "source": [
    "Spalte1 | Spalte2\n",
    ":--|:--\n",
    "1 | rot\n",
    "2 | blau\n",
    "3 | gelb"
   ]
  },
  {
   "cell_type": "markdown",
   "metadata": {},
   "source": [
    "Code Highlighting:"
   ]
  },
  {
   "cell_type": "markdown",
   "metadata": {},
   "source": [
    "Inline-Code:\n",
    "`x = 1 + 2`"
   ]
  },
  {
   "cell_type": "markdown",
   "metadata": {},
   "source": [
    "Python-Code-Block\n",
    "```python\n",
    "def add(x,y):\n",
    "    return x + y\n",
    "```"
   ]
  },
  {
   "cell_type": "markdown",
   "metadata": {},
   "source": [
    "SQL-Code-Block\n",
    "```SQL\n",
    "SELECT name, dept FROM employees;\n",
    "```\n",
    "\n",
    "$f(x)=x^2$"
   ]
  },
  {
   "cell_type": "markdown",
   "metadata": {},
   "source": [
    "Header:"
   ]
  },
  {
   "cell_type": "raw",
   "metadata": {},
   "source": [
    "# Level 1\n",
    "## Level 2\n",
    "### Level3"
   ]
  },
  {
   "cell_type": "markdown",
   "metadata": {},
   "source": [
    "Formatieren:"
   ]
  },
  {
   "cell_type": "raw",
   "metadata": {},
   "source": [
    "**fett**\n",
    "*kursiv*  \n",
    "$f(x) = x^2$"
   ]
  },
  {
   "cell_type": "markdown",
   "metadata": {},
   "source": [
    "**fett**  \n",
    "*kursiv*  \n",
    "$f(x) = x^2$ "
   ]
  },
  {
   "cell_type": "markdown",
   "metadata": {},
   "source": [
    "#### Code-Zellen"
   ]
  },
  {
   "cell_type": "markdown",
   "metadata": {},
   "source": [
    "Code-Zelle beinhalten Python-Code:"
   ]
  },
  {
   "cell_type": "code",
   "execution_count": 6,
   "metadata": {
    "ExecuteTime": {
     "end_time": "2024-04-07T07:16:59.902602Z",
     "start_time": "2024-04-07T07:16:59.894625Z"
    },
    "vscode": {
     "languageId": "python"
    }
   },
   "outputs": [
    {
     "data": {
      "text/plain": [
       "'Hello!'"
      ]
     },
     "execution_count": 6,
     "metadata": {},
     "output_type": "execute_result"
    }
   ],
   "source": [
    "def say_hello():\n",
    "    return \"Hello!\"\n",
    "\n",
    "say_hello()"
   ]
  },
  {
   "cell_type": "markdown",
   "metadata": {},
   "source": [
    "Die letzte Ausgabe wird automatisch ausgegeben."
   ]
  },
  {
   "cell_type": "code",
   "execution_count": 7,
   "metadata": {
    "ExecuteTime": {
     "end_time": "2024-04-07T07:17:04.924634Z",
     "start_time": "2024-04-07T07:17:04.918561Z"
    },
    "vscode": {
     "languageId": "python"
    }
   },
   "outputs": [
    {
     "data": {
      "text/plain": [
       "'Hello!'"
      ]
     },
     "execution_count": 7,
     "metadata": {},
     "output_type": "execute_result"
    }
   ],
   "source": [
    "say_hello()\n",
    "say_hello()"
   ]
  },
  {
   "cell_type": "markdown",
   "metadata": {},
   "source": [
    "Mit `print()` können mehrere Ausgaben ausgegeben werden. "
   ]
  },
  {
   "cell_type": "code",
   "execution_count": 8,
   "metadata": {
    "ExecuteTime": {
     "end_time": "2024-04-07T07:17:09.307373Z",
     "start_time": "2024-04-07T07:17:09.302623Z"
    },
    "vscode": {
     "languageId": "python"
    }
   },
   "outputs": [
    {
     "name": "stdout",
     "output_type": "stream",
     "text": [
      "Hello!\n",
      "Hello!\n"
     ]
    }
   ],
   "source": [
    "print(say_hello())\n",
    "print(say_hello())"
   ]
  },
  {
   "cell_type": "markdown",
   "metadata": {},
   "source": [
    "#### Cell Magic"
   ]
  },
  {
   "cell_type": "markdown",
   "metadata": {},
   "source": [
    "Zeilen, die mit `!` beginnen, werden als Shell-Befehl ausgeführt."
   ]
  },
  {
   "cell_type": "code",
   "execution_count": 9,
   "metadata": {
    "ExecuteTime": {
     "end_time": "2024-04-07T07:17:20.108313Z",
     "start_time": "2024-04-07T07:17:19.734189Z"
    },
    "vscode": {
     "languageId": "python"
    }
   },
   "outputs": [
    {
     "name": "stdout",
     "output_type": "stream",
     "text": [
      "2-introduction_to_python.ipynb\r\n",
      "Einfuehrung_Jupyter_Notebook.ipynb\r\n",
      "customers.csv\r\n",
      "hitting_the_road_with_citi_bike_data.ipynb\r\n"
     ]
    }
   ],
   "source": [
    "! ls -1"
   ]
  },
  {
   "cell_type": "code",
   "execution_count": 10,
   "metadata": {
    "ExecuteTime": {
     "end_time": "2024-04-07T07:17:29.571083Z",
     "start_time": "2024-04-07T07:17:29.207117Z"
    },
    "vscode": {
     "languageId": "python"
    }
   },
   "outputs": [],
   "source": [
    "! echo -e \"def say_hello(): \\n\\tprint('Hello!')\\nsay_hello()\" > ~/workspace/say_hello.py"
   ]
  },
  {
   "cell_type": "markdown",
   "metadata": {},
   "source": [
    "Mit `%pycat` können Textdateien angezeigt werden. "
   ]
  },
  {
   "cell_type": "code",
   "execution_count": 11,
   "metadata": {
    "ExecuteTime": {
     "end_time": "2024-04-07T07:17:31.310175Z",
     "start_time": "2024-04-07T07:17:31.303576Z"
    },
    "vscode": {
     "languageId": "python"
    }
   },
   "outputs": [],
   "source": [
    "%pycat ~/workspace/say_hello.py"
   ]
  },
  {
   "cell_type": "code",
   "execution_count": 12,
   "metadata": {
    "ExecuteTime": {
     "end_time": "2024-04-07T07:17:45.471582Z",
     "start_time": "2024-04-07T07:17:45.096991Z"
    },
    "vscode": {
     "languageId": "python"
    }
   },
   "outputs": [
    {
     "name": "stdout",
     "output_type": "stream",
     "text": [
      "Hello!\r\n"
     ]
    }
   ],
   "source": [
    "! python ~/workspace/say_hello.py"
   ]
  },
  {
   "cell_type": "code",
   "execution_count": 13,
   "metadata": {
    "ExecuteTime": {
     "end_time": "2024-04-07T07:17:46.743183Z",
     "start_time": "2024-04-07T07:17:46.382495Z"
    },
    "vscode": {
     "languageId": "python"
    }
   },
   "outputs": [],
   "source": [
    "! rm ~/workspace/say_hello.py"
   ]
  },
  {
   "cell_type": "markdown",
   "metadata": {},
   "source": [
    "#### PlantUML Diagramme\n",
    "\n",
    "Für die Modellierung von Diagrammen verwenden wir PlantUML innerhalb der Jupyter-Notebook-Zellen. Eine Dokumentation zu PlantUML ist unter folgender URL zu finden: [https://plantuml.com/guide](https://plantuml.com/guide).\n",
    "\n",
    "Um PlantUML in Code-Zellen verwenden zu können muss zunächst folgendes Python-Modul importiert werden:"
   ]
  },
  {
   "cell_type": "code",
   "execution_count": 14,
   "metadata": {
    "ExecuteTime": {
     "end_time": "2024-04-07T07:19:38.128605Z",
     "start_time": "2024-04-07T07:19:38.112545Z"
    },
    "vscode": {
     "languageId": "python"
    }
   },
   "outputs": [],
   "source": [
    "import iplantuml"
   ]
  },
  {
   "cell_type": "markdown",
   "metadata": {},
   "source": [
    "Anschließend können Diagramme folgendermaßen erzeugt werden:"
   ]
  },
  {
   "cell_type": "code",
   "execution_count": 16,
   "metadata": {
    "ExecuteTime": {
     "end_time": "2024-04-07T07:20:25.115808Z",
     "start_time": "2024-04-07T07:20:22.603142Z"
    },
    "vscode": {
     "languageId": "python"
    }
   },
   "outputs": [
    {
     "data": {
      "image/svg+xml": [
       "<svg xmlns=\"http://www.w3.org/2000/svg\" xmlns:xlink=\"http://www.w3.org/1999/xlink\" contentStyleType=\"text/css\" height=\"241px\" preserveAspectRatio=\"none\" style=\"width:165px;height:241px;background:#FFFFFF;\" version=\"1.1\" viewBox=\"0 0 165 241\" width=\"165px\" zoomAndPan=\"magnify\"><defs/><g><!--MD5=[7fa0c39d1c3af83d477b170083073713]\n",
       "class a--><g id=\"elem_a\"><rect codeLine=\"7\" fill=\"#F1F1F1\" height=\"66.8906\" id=\"a\" rx=\"2.5\" ry=\"2.5\" style=\"stroke:#181818;stroke-width:0.5;\" width=\"151\" x=\"7\" y=\"7\"/><text fill=\"#000000\" font-family=\"sans-serif\" font-size=\"14\" lengthAdjust=\"spacing\" textLength=\"9\" x=\"78\" y=\"24.9951\">A</text><line style=\"stroke:#181818;stroke-width:0.5;\" x1=\"8\" x2=\"157\" y1=\"33.2969\" y2=\"33.2969\"/><ellipse cx=\"18\" cy=\"44.2969\" fill=\"#000000\" rx=\"3\" ry=\"3\" style=\"stroke:#000000;stroke-width:1.0;\"/><text fill=\"#FF6347\" font-family=\"sans-serif\" font-size=\"14\" font-weight=\"bold\" lengthAdjust=\"spacing\" textLength=\"58\" x=\"27\" y=\"50.292\">id «PK»</text><ellipse cx=\"18\" cy=\"60.5938\" fill=\"#000000\" rx=\"3\" ry=\"3\" style=\"stroke:#000000;stroke-width:1.0;\"/><text fill=\"#000000\" font-family=\"sans-serif\" font-size=\"14\" lengthAdjust=\"spacing\" textLength=\"125\" x=\"27\" y=\"66.5889\">attribute_a : string</text></g><!--MD5=[e373b81aa261186aa76acdb762bff33c]\n",
       "class b--><g id=\"elem_b\"><rect codeLine=\"12\" fill=\"#F1F1F1\" height=\"83.1875\" id=\"b\" rx=\"2.5\" ry=\"2.5\" style=\"stroke:#181818;stroke-width:0.5;\" width=\"142\" x=\"11.5\" y=\"151\"/><text fill=\"#000000\" font-family=\"sans-serif\" font-size=\"14\" lengthAdjust=\"spacing\" textLength=\"10\" x=\"77.5\" y=\"168.9951\">B</text><line style=\"stroke:#181818;stroke-width:0.5;\" x1=\"12.5\" x2=\"152.5\" y1=\"177.2969\" y2=\"177.2969\"/><ellipse cx=\"22.5\" cy=\"188.2969\" fill=\"#000000\" rx=\"3\" ry=\"3\" style=\"stroke:#000000;stroke-width:1.0;\"/><text fill=\"#FF6347\" font-family=\"sans-serif\" font-size=\"14\" font-weight=\"bold\" lengthAdjust=\"spacing\" textLength=\"58\" x=\"31.5\" y=\"194.292\">id «PK»</text><ellipse cx=\"22.5\" cy=\"204.5938\" fill=\"#000000\" rx=\"3\" ry=\"3\" style=\"stroke:#000000;stroke-width:1.0;\"/><text fill=\"#000000\" font-family=\"sans-serif\" font-size=\"14\" font-weight=\"bold\" lengthAdjust=\"spacing\" textLength=\"73\" x=\"31.5\" y=\"210.5889\">a_id «FK»</text><ellipse cx=\"22.5\" cy=\"220.8906\" fill=\"#000000\" rx=\"3\" ry=\"3\" style=\"stroke:#000000;stroke-width:1.0;\"/><text fill=\"#000000\" font-family=\"sans-serif\" font-size=\"14\" lengthAdjust=\"spacing\" textLength=\"116\" x=\"31.5\" y=\"226.8857\">attribute_b : float</text></g><!--MD5=[a3deb68e4aebbeb113ddd128f6b25b58]\n",
       "link a to b--><g id=\"link_a_b\"><path codeLine=\"18\" d=\"M82.5,74.2337 C82.5,96.8863 82.5,126.8845 82.5,150.9999 \" fill=\"none\" id=\"a-b\" style=\"stroke:#181818;stroke-width:1.0;\"/><polygon fill=\"#000000\" points=\"87.5,117.5664,90.4389,108.5213,84.5611,108.5213,87.5,117.5664\" style=\"stroke:#000000;stroke-width:1.0;\"/><text fill=\"#000000\" font-family=\"sans-serif\" font-size=\"13\" lengthAdjust=\"spacing\" textLength=\"31\" x=\"96.5\" y=\"117.0669\">hasd</text><text fill=\"#000000\" font-family=\"sans-serif\" font-size=\"13\" lengthAdjust=\"spacing\" textLength=\"24\" x=\"56.2875\" y=\"93.9254\">1..1</text><text fill=\"#000000\" font-family=\"sans-serif\" font-size=\"13\" lengthAdjust=\"spacing\" textLength=\"23\" x=\"57.5953\" y=\"139.9466\">0..*</text></g><!--MD5=[bb515a83e0d9bbbf77be0f9da97bcf5f]\n",
       "@startuml\n",
       "\n",
       "hide circle\n",
       "hide members\n",
       "show fields\n",
       "\n",
       "class \"A\" as a {\n",
       "* <color:Tomato>**id <<PK>>**</color>\n",
       "* attribute_a : string\n",
       "}\n",
       "\n",
       "class \"B\" as b {\n",
       "* <color:Tomato>**id <<PK>>**</color>\n",
       "* **a_id <<FK>>**\n",
       "* attribute_b : float\n",
       "}\n",
       "\n",
       "a \"1..1\" - - \"0..*\" b : hasd >\n",
       "\n",
       "@enduml\n",
       "\n",
       "PlantUML version 1.2022.5(Sat Apr 30 10:55:52 GMT 2022)\n",
       "(GPL source distribution)\n",
       "Java Runtime: OpenJDK Runtime Environment\n",
       "JVM: OpenJDK 64-Bit Server VM\n",
       "Default Encoding: UTF-8\n",
       "Language: en\n",
       "Country: US\n",
       "--></g></svg>"
      ],
      "text/plain": [
       "<IPython.core.display.SVG object>"
      ]
     },
     "execution_count": 16,
     "metadata": {},
     "output_type": "execute_result"
    }
   ],
   "source": [
    " %%plantuml --jar\n",
    "\n",
    "@startuml\n",
    "\n",
    "hide circle\n",
    "hide members\n",
    "show fields\n",
    "\n",
    "class \"A\" as a {\n",
    "* <color:Tomato>**id <<PK>>**</color>\n",
    "* attribute_a : string\n",
    "}\n",
    "\n",
    "class \"B\" as b {\n",
    "* <color:Tomato>**id <<PK>>**</color>\n",
    "* **a_id <<FK>>**\n",
    "* attribute_b : float\n",
    "}\n",
    "\n",
    "a \"1..1\" -- \"0..*\" b : hasd >\n",
    "\n",
    "@enduml"
   ]
  },
  {
   "cell_type": "markdown",
   "metadata": {},
   "source": [
    "## Docker\n",
    "\n",
    "In diesem Abschnitt gehen wir auf den Umgang mit Docker-Containern ein. Insbesondere auf die Arbeit mit Jupyter-Notebooks, die remote in einem Docker-Container ausgeführt werden. Dies betrifft einerseits Datei-Pfade hinsichtlich des *workspace/* Docker-Volumes, sowie das Management weiterer Docker-Container über Jupyter-Notebooks.\n",
    "\n",
    "Zunächst sollten wir uns aber noch einmal klarmachen, dass es sich bei dem *workspace/* Ordner, in welchem wir die Notebooks und alle weiteren Dateien ablegen (auf die wir entsprechend in den Notebooks zugreifen wollen) um ein Docker-Volume handelt. Außerdem ist zu beachten, dass die Notebooks bzw. die Code-Zellen remote innerhalb des *client-node* Docker-Containers ausgeführt werden. Das bedeutet, dass wir mit den Dateisystempfaden des Containers arbeiten müssen!\n",
    "\n",
    "Nachfolgende Grafik veranschaulicht nochmals das Prinzip des hier verwendeten Docker-Volumes (siehe auch Abschnitt *Usage* der [Installationsanleitung](https://dbis.pages.dbis-pro1.fernuni-hagen.de/docker-hadoop-cluster/introduction.html))."
   ]
  },
  {
   "attachments": {
    "Docker-Volume-Mounts-v4.png": {
     "image/png": "[encoded data removed]"
    }
   },
   "cell_type": "markdown",
   "metadata": {},
   "source": [
    "Abb. 1: Docker Volumes\n",
    "\n",
    "![Docker-Volume-Mounts-v4.png](attachment:Docker-Volume-Mounts-v4.png)"
   ]
  },
  {
   "cell_type": "markdown",
   "metadata": {},
   "source": [
    "Außerdem werden wir im Verlauf der Kurseinheiten verschiedene Datenbanksysteme verwenden. Diese sollen ebenfalls als Docker-Container gestartet und in das durch Docker-Compose erzeugte *bridge* Netzwerk integriert werden. Dadurch können wir mit entsprechende Python-Driver über das Docker-Netzwerk auf die Datenbanksysteme zugreifen.\n",
    "\n",
    "Um beispielsweise Daten, die sich in unserem *workspace/* Ordner befinden, direkt im Docker-Container des Datenbanksystems verfügbar zu haben, müssen wir beim Start weiterer Container ein entsprechendes Volume anlegen. Die Container sollen außerdem bequem über Nodebook-Code-Zellen gestartet und gestoppt werden. Um dies zu ermöglichen wurde Docker ebenfalls im *client-node* Container installiert. Durch ein Docker-Volume, dass das Unix-Socket des Hosts im *client-node* Container verfügbar macht, können wir aus diesem Container heraus auf die Docker-Engine des Hosts zugreifen (siehe nachfolgende Grafik). Um nun das Docker-Volume für den Zugriff auf den *workspace/* Ordner anlegen zu können benötigen wir allerdings den vollständigen Pfad des *workspace/* Ordners auf dem Host."
   ]
  },
  {
   "attachments": {
    "Docker-In-Docker-v1.png": {
     "image/png": "[encoded data removed]"
    }
   },
   "cell_type": "markdown",
   "metadata": {},
   "source": [
    "Abb. 2: Docker in Docker\n",
    "\n",
    "![Docker-In-Docker-v1.png](attachment:Docker-In-Docker-v1.png)"
   ]
  },
  {
   "cell_type": "markdown",
   "metadata": {},
   "source": [
    "### Pfad Variablen\n",
    "\n",
    "Da wir in den verschiedenen Code-Zellen immer wieder auf Dateien zugreifen müssen die sich im *workspace/* Ordner befinden und andererseits, wenn wir über Notebook-Zellen weitere Docker-Container verwalten wollen, die wiederum über ein Docker-Volume des *workspace/* Ordners verfügen, ist es hilfreich Umgebungsvariablen für die jeweiligen Pfade zu definieren."
   ]
  },
  {
   "cell_type": "markdown",
   "metadata": {},
   "source": [
    "<div class=\"alert alert-block alert-info\">\n",
    "    \n",
    "**Aufgabe**    \n",
    "    \n",
    "Erstellen Sie eine Umgebungsvariable, die auf den *workspace/* Ordner innerhalb des Docker-Containers zeigt. Geben Sie außerdem den Inhalt der Variable, sowie den Inhalt des *workspace/* Ordners aus.\n",
    "</div>"
   ]
  },
  {
   "cell_type": "markdown",
   "metadata": {},
   "source": [
    "> *NOTE:* Da über das Terminal (Bash) exportierte Umgebungsvariable nicht in allen Code-Zellen des Notebooks verfügbar sind, müssen wir die Variablen über Python exportieren."
   ]
  },
  {
   "cell_type": "code",
   "execution_count": 17,
   "metadata": {
    "ExecuteTime": {
     "end_time": "2024-04-07T07:23:46.148085Z",
     "start_time": "2024-04-07T07:23:45.792896Z"
    }
   },
   "outputs": [
    {
     "name": "stdout",
     "output_type": "stream",
     "text": [
      "/home/pyspark-client/workspace/ke-1\r\n"
     ]
    }
   ],
   "source": [
    "!pwd"
   ]
  },
  {
   "cell_type": "code",
   "execution_count": 20,
   "metadata": {
    "ExecuteTime": {
     "end_time": "2024-04-07T07:24:19.762504Z",
     "start_time": "2024-04-07T07:24:19.757751Z"
    },
    "vscode": {
     "languageId": "python"
    }
   },
   "outputs": [],
   "source": [
    "import os\n",
    "\n",
    "# add the full path to the workspace folder inside of the container here\n",
    "os.environ['CLIENT_NODE_WORKSPACE_PATH'] = \"/home/pyspark-client/workspace/\""
   ]
  },
  {
   "cell_type": "markdown",
   "metadata": {},
   "source": [
    "Folgender Bash-Code gibt den Inhalt der \"CONTAINER_WORKSPACE_PATH\" Umgebungsvariable aus:"
   ]
  },
  {
   "cell_type": "code",
   "execution_count": 21,
   "metadata": {
    "ExecuteTime": {
     "end_time": "2024-04-07T07:24:23.332191Z",
     "start_time": "2024-04-07T07:24:23.320269Z"
    },
    "vscode": {
     "languageId": "python"
    }
   },
   "outputs": [
    {
     "name": "stdout",
     "output_type": "stream",
     "text": [
      "/home/pyspark-client/workspace/\n"
     ]
    }
   ],
   "source": [
    "%%bash\n",
    "\n",
    "echo $CLIENT_NODE_WORKSPACE_PATH"
   ]
  },
  {
   "cell_type": "markdown",
   "metadata": {},
   "source": [
    "Mit folgendem Befehl kann der Inhalt des *workspace/* Ordners ausgegeben werden:"
   ]
  },
  {
   "cell_type": "code",
   "execution_count": 22,
   "metadata": {
    "ExecuteTime": {
     "end_time": "2024-04-07T07:24:29.735477Z",
     "start_time": "2024-04-07T07:24:29.718124Z"
    },
    "vscode": {
     "languageId": "python"
    }
   },
   "outputs": [
    {
     "name": "stdout",
     "output_type": "stream",
     "text": [
      "README.md\n",
      "data\n",
      "ke-1\n"
     ]
    }
   ],
   "source": [
    "%%bash\n",
    "\n",
    "ls -1 $CLIENT_NODE_WORKSPACE_PATH"
   ]
  },
  {
   "cell_type": "code",
   "execution_count": 24,
   "metadata": {
    "ExecuteTime": {
     "end_time": "2024-04-07T07:25:33.230524Z",
     "start_time": "2024-04-07T07:25:32.857618Z"
    }
   },
   "outputs": [
    {
     "name": "stdout",
     "output_type": "stream",
     "text": [
      "pyspark-client\r\n"
     ]
    }
   ],
   "source": [
    "!hostname"
   ]
  },
  {
   "cell_type": "markdown",
   "metadata": {},
   "source": [
    "<div class=\"alert alert-block alert-info\">\n",
    "    \n",
    "**Aufgabe**    \n",
    "    \n",
    "Wo befinden wir uns? Gemeint ist, auf welchen Dateisystem wir uns befinden. Geben Sie entweder \"**host**\" oder den Hostnamen des entsprechenden Containers an (siehe  Abb. 1).\n",
    "</div>"
   ]
  },
  {
   "cell_type": "raw",
   "metadata": {},
   "source": [
    "Ihre Antwort: pyspark-client"
   ]
  },
  {
   "cell_type": "markdown",
   "metadata": {},
   "source": [
    "<div class=\"alert alert-block alert-info\">\n",
    "    \n",
    "**Aufgabe**    \n",
    "    \n",
    "Auf Moodle wurde ebenfalls eine CSV-Datei bereitgestellt (*customers.csv*). Kopieren Sie diese, wenn noch nicht geschehen, in den *workspace/* Ordner und legen Sie dann eine weitere Umgebungsvariable an, die auf die Datei innerhalb des *workspace/* Ordners verweist. Die Datei kann sich auch in einem weiteren Unterordner befinden. Führen Sie anschließend den vorgegeben Code aus, um eine weitere Umgebungsvariable mit dem vollen Pfad zur CSV-Datei zu erstellen und die ersten 10 Zeilen der Datei auszugeben.\n",
    "</div>"
   ]
  },
  {
   "cell_type": "markdown",
   "metadata": {},
   "source": [
    "> *NOTE:* Achten Sie darauf, dass es sich bei der Variable \"WORKSPACE_DATA_FILE_CUSTOMERS\" um einen relativen Pfad handelt und daher nicht mit einem \"/\" beginnen darf! Gesucht ist hier der relative Pfad innerhalb des *workspace/* Ordners zur Datei *customers.csv*."
   ]
  },
  {
   "cell_type": "code",
   "execution_count": 26,
   "metadata": {
    "ExecuteTime": {
     "end_time": "2024-04-07T07:28:10.689668Z",
     "start_time": "2024-04-07T07:28:10.358003Z"
    }
   },
   "outputs": [],
   "source": [
    "!mv ./customers.csv ../data/customers.CSV"
   ]
  },
  {
   "cell_type": "code",
   "execution_count": 36,
   "metadata": {
    "ExecuteTime": {
     "end_time": "2024-04-07T07:30:17.365545Z",
     "start_time": "2024-04-07T07:30:17.359367Z"
    },
    "vscode": {
     "languageId": "python"
    }
   },
   "outputs": [],
   "source": [
    "# Path to customers.csv file\n",
    "os.environ['WORKSPACE_DATA_FILE_CUSTOMERS'] = \"data/customers.CSV\""
   ]
  },
  {
   "cell_type": "code",
   "execution_count": 37,
   "metadata": {
    "ExecuteTime": {
     "end_time": "2024-04-07T07:30:18.146783Z",
     "start_time": "2024-04-07T07:30:18.141733Z"
    },
    "vscode": {
     "languageId": "python"
    }
   },
   "outputs": [],
   "source": [
    "# Full path on the client node to the customers.csv file\n",
    "os.environ['CLIENT_NODE_DATA_FILE_CUSTOMERS'] = \\\n",
    "os.path.join(os.environ['CLIENT_NODE_WORKSPACE_PATH'],os.environ['WORKSPACE_DATA_FILE_CUSTOMERS'])"
   ]
  },
  {
   "cell_type": "code",
   "execution_count": 38,
   "metadata": {
    "ExecuteTime": {
     "end_time": "2024-04-07T07:30:19.410400Z",
     "start_time": "2024-04-07T07:30:19.045401Z"
    }
   },
   "outputs": [
    {
     "name": "stdout",
     "output_type": "stream",
     "text": [
      "JC-202009-citibike-tripdata.csv  customers.CSV\r\n"
     ]
    }
   ],
   "source": [
    "!ls /home/pyspark-client/workspace/data"
   ]
  },
  {
   "cell_type": "code",
   "execution_count": 39,
   "metadata": {
    "ExecuteTime": {
     "end_time": "2024-04-07T07:30:20.621914Z",
     "start_time": "2024-04-07T07:30:20.597731Z"
    },
    "vscode": {
     "languageId": "python"
    }
   },
   "outputs": [
    {
     "name": "stdout",
     "output_type": "stream",
     "text": [
      "1,DD37Cf93aecA6Dc,Sheryl,Baxter,Rasmussen Group,East Leonard,Chile,229.077.5154,397.884.0519x718,zunigavanessa@smith.info,2020-08-24,http://www.stephenson.com/\n",
      "2,1Ef7b82A4CAAD10,Preston,Lozano,Vega-Gentry,East Jimmychester,Djibouti,5153435776,686-620-1820x944,vmata@colon.com,2021-04-23,http://www.hobbs.com/\n",
      "3,6F94879bDAfE5a6,Roy,Berry,Murillo-Perry,Isabelborough,Antigua and Barbuda,+1-539-402-0259,(496)978-3969x58947,beckycarr@hogan.com,2020-03-25,http://www.lawrence.com/\n",
      "4,5Cef8BFA16c5e3c,Linda,Olsen,\"Dominguez, Mcmillan and Donovan\",Bensonview,Dominican Republic,001-808-617-6467x12895,+1-813-324-8756,stanleyblackwell@benson.org,2020-06-02,http://www.good-lyons.com/\n",
      "5,053d585Ab6b3159,Joanna,Bender,\"Martin, Lang and Andrade\",West Priscilla,Slovakia (Slovak Republic),001-234-203-0635x76146,001-199-446-3860x3486,colinalvarado@miles.net,2021-04-17,https://goodwin-ingram.com/\n",
      "6,2d08FB17EE273F4,Aimee,Downs,Steele Group,Chavezborough,Bosnia and Herzegovina,(283)437-3886x88321,999-728-1637,louis27@gilbert.com,2020-02-25,http://www.berger.net/\n",
      "7,EA4d384DfDbBf77,Darren,Peck,\"Lester, Woodard and Mitchell\",Lake Ana,Pitcairn Islands,(496)452-6181x3291,+1-247-266-0963x4995,tgates@cantrell.com,2021-08-24,https://www.le.com/\n",
      "8,0e04AFde9f225dE,Brett,Mullen,\"Sanford, Davenport and Giles\",Kimport,Bulgaria,001-583-352-7197x297,001-333-145-0369,asnow@colon.com,2021-04-12,https://hammond-ramsey.com/\n",
      "9,C2dE4dEEc489ae0,Sheryl,Meyers,Browning-Simon,Robersonstad,Cyprus,854-138-4911x5772,+1-448-910-2276x729,mariokhan@ryan-pope.org,2020-01-13,https://www.bullock.net/\n",
      "10,8C2811a503C7c5a,Michelle,Gallagher,Beck-Hendrix,Elaineberg,Timor-Leste,739.218.2516x459,001-054-401-0347x617,mdyer@escobar.net,2021-11-08,https://arias.com/\n"
     ]
    }
   ],
   "source": [
    "%%bash\n",
    "\n",
    "# print first 10 lines of a text file\n",
    "head $CLIENT_NODE_DATA_FILE_CUSTOMERS"
   ]
  },
  {
   "cell_type": "markdown",
   "metadata": {},
   "source": [
    "<div class=\"alert alert-block alert-info\">\n",
    "    \n",
    "**Aufgabe**    \n",
    "    \n",
    "Bevor wir einen weiteren Datenbank-Container starten und die Daten der CSV-Datei importierten, benötigen wir noch den Pfad des *workspace/* Ordners auf dem Host. Legen Sie daher eine weitere Umgebungsvariable an, die den vollständigen Pfad zu dem *workspace/* Ordner auf dem Host beinhaltet.\n",
    "</div>"
   ]
  },
  {
   "cell_type": "markdown",
   "metadata": {},
   "source": [
    "> *NOTE:* Um den vollständigen Pfad auf dem Host zu erhalten können sie ein Terminal (Ubuntu WSL-Terminal unter Windows) öffnen, in den *workspace/* Ordner wechseln und `pwd` (print working directory) eingeben."
   ]
  },
  {
   "cell_type": "code",
   "execution_count": 40,
   "metadata": {
    "ExecuteTime": {
     "end_time": "2024-04-07T07:31:40.756581Z",
     "start_time": "2024-04-07T07:31:40.751356Z"
    },
    "vscode": {
     "languageId": "python"
    }
   },
   "outputs": [],
   "source": [
    "# add the full path to the workspace folder on the host\n",
    "os.environ['HOST_WORKSPACE_PATH'] = \\\n",
    "\"/home/ricardo/src/master/data-engineering/workspace\""
   ]
  },
  {
   "cell_type": "markdown",
   "metadata": {},
   "source": [
    "### Weitere Docker Container"
   ]
  },
  {
   "cell_type": "markdown",
   "metadata": {},
   "source": [
    "<div class=\"alert alert-block alert-info\">\n",
    "    \n",
    "**Aufgabe**    \n",
    "    \n",
    "Starten Sie einen *alpine* Docker-Container (minimalistischen Linux-System, dass nur wenige Megabyte groß ist), der ein Volume des *workspace/* Ordners enthält und geben Sie den Inhalt der bereitgestellten CSV-Datei aus dem *alpine* Container heraus aus. Der benötigte Code ist im folgend bereits vollständig vorgegeben.\n",
    "</div>"
   ]
  },
  {
   "cell_type": "code",
   "execution_count": 51,
   "metadata": {
    "ExecuteTime": {
     "end_time": "2024-04-07T07:37:35.228416Z",
     "start_time": "2024-04-07T07:37:34.629752Z"
    },
    "scrolled": true,
    "vscode": {
     "languageId": "python"
    }
   },
   "outputs": [
    {
     "name": "stdout",
     "output_type": "stream",
     "text": [
      "\u001b[0;0mJC-202009-citibike-tripdata.csv\u001b[m  \u001b[0;0mcustomers.CSV\u001b[m\r\n"
     ]
    }
   ],
   "source": [
    "%%bash\n",
    "\n",
    "sudo docker run -t --rm \\\n",
    "--name dbis-alpine-1 \\\n",
    "--hostname dbis-alpine-1 \\\n",
    "-v \"${HOST_WORKSPACE_PATH}:/mnt/workspace:ro\" \\\n",
    "alpine:3.17 \\\n",
    "ls /mnt/workspace/data/\n",
    "#sh -c \"head /mnt/workspace/${WORKSPACE_DATA_FILE_CUSTOMERS}\""
   ]
  },
  {
   "cell_type": "markdown",
   "metadata": {},
   "source": [
    "<div class=\"alert alert-block alert-info\">\n",
    "    \n",
    "**Aufgabe**    \n",
    "    \n",
    "Wie lautet der vollständige Pfad der *customers.csv* Datei **innerhalb** des *alpine* Containers?\n",
    "</div>"
   ]
  },
  {
   "cell_type": "raw",
   "metadata": {},
   "source": [
    "Ihre Antwort: /mnt/workspace/data/customers.CSV"
   ]
  },
  {
   "cell_type": "markdown",
   "metadata": {},
   "source": [
    "<div class=\"alert alert-block alert-info\">\n",
    "    \n",
    "**Aufgabe**    \n",
    "    \n",
    "Starten Sie jetzt einen MongoDB-Container (ebenfalls mit einem Volume des *workspace/* Ordners) der sich im selben Docker-Netzwerk wie unsere anderen Container befindet und importieren Sie anschließend die Daten aus der CSV-Datei.\n",
    "</div>"
   ]
  },
  {
   "cell_type": "markdown",
   "metadata": {},
   "source": [
    "Mit folgendem Code kann der MongoDB-Container gestartet werden:"
   ]
  },
  {
   "cell_type": "code",
   "execution_count": 46,
   "metadata": {
    "ExecuteTime": {
     "end_time": "2024-04-07T07:36:06.940944Z",
     "start_time": "2024-04-07T07:35:04.151719Z"
    },
    "vscode": {
     "languageId": "python"
    }
   },
   "outputs": [
    {
     "name": "stderr",
     "output_type": "stream",
     "text": [
      "Unable to find image 'mongo:5.0.5-focal' locally\n",
      "5.0.5-focal: Pulling from library/mongo\n",
      "ea362f368469: Pulling fs layer\n",
      "ecab26900ceb: Pulling fs layer\n",
      "1847fcb70562: Pulling fs layer\n",
      "a7de23811c0d: Pulling fs layer\n",
      "29dd51833fb9: Pulling fs layer\n",
      "5eccd2be8afb: Pulling fs layer\n",
      "cd8a8cd6879f: Pulling fs layer\n",
      "e6ca3abc397d: Pulling fs layer\n",
      "7481c3682d3c: Pulling fs layer\n",
      "af377cb9eb7d: Pulling fs layer\n",
      "29dd51833fb9: Waiting\n",
      "5eccd2be8afb: Waiting\n",
      "af377cb9eb7d: Waiting\n",
      "7481c3682d3c: Waiting\n",
      "e6ca3abc397d: Waiting\n",
      "cd8a8cd6879f: Waiting\n",
      "ecab26900ceb: Verifying Checksum\n",
      "ecab26900ceb: Download complete\n",
      "1847fcb70562: Verifying Checksum\n",
      "1847fcb70562: Download complete\n",
      "29dd51833fb9: Download complete\n",
      "5eccd2be8afb: Verifying Checksum\n",
      "5eccd2be8afb: Download complete\n",
      "a7de23811c0d: Verifying Checksum\n",
      "a7de23811c0d: Download complete\n",
      "cd8a8cd6879f: Verifying Checksum\n",
      "cd8a8cd6879f: Download complete\n",
      "7481c3682d3c: Verifying Checksum\n",
      "7481c3682d3c: Download complete\n",
      "af377cb9eb7d: Download complete\n",
      "ea362f368469: Verifying Checksum\n",
      "ea362f368469: Download complete\n",
      "ea362f368469: Pull complete\n",
      "ecab26900ceb: Pull complete\n",
      "1847fcb70562: Pull complete\n",
      "a7de23811c0d: Pull complete\n",
      "29dd51833fb9: Pull complete\n",
      "5eccd2be8afb: Pull complete\n",
      "cd8a8cd6879f: Pull complete\n",
      "e6ca3abc397d: Verifying Checksum\n",
      "e6ca3abc397d: Download complete\n",
      "e6ca3abc397d: Pull complete\n",
      "7481c3682d3c: Pull complete\n",
      "af377cb9eb7d: Pull complete\n",
      "Digest: sha256:b45c136860fe7bb4fff32e8425457e01c3c8ee22e7e57d1b5d928243d4b6b1f3\n",
      "Status: Downloaded newer image for mongo:5.0.5-focal\n"
     ]
    },
    {
     "name": "stdout",
     "output_type": "stream",
     "text": [
      "dcb305ceef762938485c9c920afb88fdc608d272962f6ff6758f8ad5ee415e6f\n"
     ]
    }
   ],
   "source": [
    "%%bash\n",
    "\n",
    "sudo docker run -d --rm \\\n",
    "--name dbis-mongo-db-1 \\\n",
    "--hostname dbis-mongo-db-1 \\\n",
    "-v \"${HOST_WORKSPACE_PATH}:/mnt/workspace:ro\" \\\n",
    "-e BROWSERSLIST_IGNORE_OLD_DATA=1 \\\n",
    "--network dbis-hadoop-cluster-network \\\n",
    "-p 127.0.0.1:27017:27017 \\\n",
    "mongo:5.0.5-focal"
   ]
  },
  {
   "cell_type": "markdown",
   "metadata": {},
   "source": [
    "Vergewissern Sie sich, dass der Container läuft:"
   ]
  },
  {
   "cell_type": "code",
   "execution_count": 52,
   "metadata": {
    "ExecuteTime": {
     "end_time": "2024-04-07T07:38:00.086437Z",
     "start_time": "2024-04-07T07:38:00.039269Z"
    },
    "vscode": {
     "languageId": "python"
    }
   },
   "outputs": [
    {
     "name": "stdout",
     "output_type": "stream",
     "text": [
      "NAMES             STATUS\n",
      "dbis-mongo-db-1   Up About a minute\n"
     ]
    }
   ],
   "source": [
    "%%bash\n",
    "\n",
    "sudo docker ps --filter \"name=dbis-mongo-db-1\" --format \"table {{.Names}}\\t{{.Status}}\""
   ]
  },
  {
   "cell_type": "markdown",
   "metadata": {},
   "source": [
    "Importieren der Daten:"
   ]
  },
  {
   "cell_type": "code",
   "execution_count": 53,
   "metadata": {
    "ExecuteTime": {
     "end_time": "2024-04-07T07:38:34.245079Z",
     "start_time": "2024-04-07T07:38:34.094608Z"
    },
    "vscode": {
     "languageId": "python"
    }
   },
   "outputs": [
    {
     "name": "stdout",
     "output_type": "stream",
     "text": [
      "\n",
      "## Import to Customers ...\n"
     ]
    },
    {
     "name": "stderr",
     "output_type": "stream",
     "text": [
      "2024-04-07T07:38:34.191+0000\tconnected to: mongodb://localhost/\n",
      "2024-04-07T07:38:34.192+0000\tdropping: customersdb.Customers\n",
      "2024-04-07T07:38:34.227+0000\t100 document(s) imported successfully. 0 document(s) failed to import.\n"
     ]
    }
   ],
   "source": [
    "%%bash\n",
    "\n",
    "## Insert Customers data\n",
    "printf \"\\n## Import to Customers ...\\n\"\n",
    "sudo docker exec -i dbis-mongo-db-1 mongoimport \\\n",
    "--drop \\\n",
    "--db=customersdb \\\n",
    "--collection=Customers \\\n",
    "--type=csv \\\n",
    "--columnsHaveTypes \\\n",
    "--fields=\"\\\n",
    "_id.int32(),\\\n",
    "customer_id.string(),\\\n",
    "firstname.string(),\\\n",
    "lastname.string(),\\\n",
    "company.string(),\\\n",
    "city.string(),\\\n",
    "country.string(),\\\n",
    "phone_1.string(),\\\n",
    "phone_2.string(),\\\n",
    "email.string(),\\\n",
    "subscription_date.date(2006-01-02)\\\n",
    ",website.string()\" \\\n",
    "--file=/mnt/workspace/${WORKSPACE_DATA_FILE_CUSTOMERS}"
   ]
  },
  {
   "cell_type": "markdown",
   "metadata": {},
   "source": [
    "<div class=\"alert alert-block alert-info\">\n",
    "    \n",
    "**Aufgabe**    \n",
    "    \n",
    "Geben Sie ein Dokument aus der Datenbank aus und stoppen anschließend den MongoDB-Container.\n",
    "</div>"
   ]
  },
  {
   "cell_type": "markdown",
   "metadata": {},
   "source": [
    "Ausgeben eines Dokuments der Datenbank:"
   ]
  },
  {
   "cell_type": "code",
   "execution_count": 54,
   "metadata": {
    "ExecuteTime": {
     "end_time": "2024-04-07T07:38:44.812754Z",
     "start_time": "2024-04-07T07:38:42.694757Z"
    },
    "vscode": {
     "languageId": "python"
    }
   },
   "outputs": [
    {
     "name": "stdout",
     "output_type": "stream",
     "text": [
      "[\n",
      "  {\n",
      "    _id: 2,\n",
      "    customer_id: '1Ef7b82A4CAAD10',\n",
      "    firstname: 'Preston',\n",
      "    lastname: 'Lozano',\n",
      "    company: 'Vega-Gentry',\n",
      "    city: 'East Jimmychester',\n",
      "    country: 'Djibouti',\n",
      "    phone_1: '5153435776',\n",
      "    phone_2: '686-620-1820x944',\n",
      "    email: 'vmata@colon.com',\n",
      "    subscription_date: ISODate(\"2021-04-23T00:00:00.000Z\"),\n",
      "    website: 'http://www.hobbs.com/'\n",
      "  }\n",
      "]\n"
     ]
    }
   ],
   "source": [
    "%%bash\n",
    "\n",
    "sudo docker exec -i dbis-mongo-db-1 mongosh customersdb --quiet --eval \\\n",
    "'db.Customers.find().limit(1);'"
   ]
  },
  {
   "cell_type": "markdown",
   "metadata": {},
   "source": [
    "Der MongoDB-Container kann folgendermaßen wieder gestoppt werden:"
   ]
  },
  {
   "cell_type": "code",
   "execution_count": 55,
   "metadata": {
    "ExecuteTime": {
     "end_time": "2024-04-07T07:38:52.467225Z",
     "start_time": "2024-04-07T07:38:51.966280Z"
    },
    "vscode": {
     "languageId": "python"
    }
   },
   "outputs": [
    {
     "name": "stdout",
     "output_type": "stream",
     "text": [
      "\n",
      "stopping the container ...\n",
      "dbis-mongo-db-1\n",
      "\n",
      "successfully stopped :)\n"
     ]
    }
   ],
   "source": [
    "%%bash\n",
    "\n",
    "# stop the mongodb docker container\n",
    "if [ -z $(sudo docker ps --filter \"name=dbis-mongo-db-1\" -q) ]; then\n",
    "    printf \"\\nthe container does not exist\\n\";\n",
    "else\n",
    "    printf \"\\nstopping the container ...\\n\";\n",
    "    sudo docker stop dbis-mongo-db-1\n",
    "    printf \"\\nsuccessfully stopped :)\\n\";\n",
    "fi"
   ]
  }
 ],
 "metadata": {
  "kernelspec": {
   "display_name": "Python 3 (ipykernel)",
   "language": "python",
   "name": "python3"
  },
  "language_info": {
   "codemirror_mode": {
    "name": "ipython",
    "version": 3
   },
   "file_extension": ".py",
   "mimetype": "text/x-python",
   "name": "python",
   "nbconvert_exporter": "python",
   "pygments_lexer": "ipython3",
   "version": "3.10.8"
  },
  "toc": {
   "base_numbering": 1,
   "nav_menu": {},
   "number_sections": true,
   "sideBar": true,
   "skip_h1_title": true,
   "title_cell": "Table of Contents",
   "title_sidebar": "Contents",
   "toc_cell": false,
   "toc_position": {
    "height": "calc(100% - 180px)",
    "left": "10px",
    "top": "150px",
    "width": "211.2px"
   },
   "toc_section_display": true,
   "toc_window_display": true
  },
  "varInspector": {
   "cols": {
    "lenName": 16,
    "lenType": 16,
    "lenVar": 40
   },
   "kernels_config": {
    "python": {
     "delete_cmd_postfix": "",
     "delete_cmd_prefix": "del ",
     "library": "var_list.py",
     "varRefreshCmd": "print(var_dic_list())"
    },
    "r": {
     "delete_cmd_postfix": ") ",
     "delete_cmd_prefix": "rm(",
     "library": "var_list.r",
     "varRefreshCmd": "cat(var_dic_list()) "
    }
   },
   "types_to_exclude": [
    "module",
    "function",
    "builtin_function_or_method",
    "instance",
    "_Feature"
   ],
   "window_display": false
  },
  "vscode": {
   "interpreter": {
    "hash": "8a94588eda9d64d9e9a351ab8144e55b1fabf5113b54e67dd26a8c27df0381b3"
   }
  }
 },
 "nbformat": 4,
 "nbformat_minor": 2
}
