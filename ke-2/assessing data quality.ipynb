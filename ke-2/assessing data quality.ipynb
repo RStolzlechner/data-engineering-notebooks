{
 "cells": [
  {
   "cell_type": "markdown",
   "id": "66b4b4d4",
   "metadata": {},
   "source": [
    "## Is it timely\n",
    "\n",
    "Meine Internet Recherche ergab, dass es einen aktuelleren Datensatz als den im Buch via GoogleDrive angebotenen geben sollte:\n",
    "- `public_150k_plus_230930`\n",
    "- Published: 30.09.2023\n",
    "- Quelle: https://data.sba.gov/dataset/ppp-foia/resource/738e639c-1fbf-4e16-beb0-a223831011e8\n",
    "- Datengröße 452 MB\n",
    "\n",
    "Der vom Buch ist\n",
    "- `public_150k_plus_recent`\n",
    "- Datengröße 322 MB"
   ]
  },
  {
   "cell_type": "markdown",
   "id": "bd36736f",
   "metadata": {
    "ExecuteTime": {
     "end_time": "2024-04-14T07:05:34.170504Z",
     "start_time": "2024-04-14T07:05:33.822833Z"
    }
   },
   "source": [
    "## Is it Complete\n",
    "\n",
    "### Earliest Date"
   ]
  },
  {
   "cell_type": "code",
   "execution_count": 1,
   "id": "fe133ee8",
   "metadata": {
    "ExecuteTime": {
     "end_time": "2024-04-17T13:39:06.920128Z",
     "start_time": "2024-04-17T13:39:05.292171Z"
    }
   },
   "outputs": [
    {
     "name": "stdout",
     "output_type": "stream",
     "text": [
      "Defaulting to user installation because normal site-packages is not writeable\n",
      "Requirement already satisfied: pandas in /home/pyspark-client/.local/lib/python3.10/site-packages (1.5.0)\n",
      "Requirement already satisfied: python-dateutil>=2.8.1 in /home/pyspark-client/.local/lib/python3.10/site-packages (from pandas) (2.8.2)\n",
      "Requirement already satisfied: pytz>=2020.1 in /home/pyspark-client/.local/lib/python3.10/site-packages (from pandas) (2023.3)\n",
      "Requirement already satisfied: numpy>=1.21.0 in /home/pyspark-client/.local/lib/python3.10/site-packages (from pandas) (1.23.3)\n",
      "Requirement already satisfied: six>=1.5 in /home/pyspark-client/.local/lib/python3.10/site-packages (from python-dateutil>=2.8.1->pandas) (1.16.0)\n",
      "\n",
      "\u001b[1m[\u001b[0m\u001b[34;49mnotice\u001b[0m\u001b[1;39;49m]\u001b[0m\u001b[39;49m A new release of pip is available: \u001b[0m\u001b[31;49m23.1.2\u001b[0m\u001b[39;49m -> \u001b[0m\u001b[32;49m24.0\u001b[0m\n",
      "\u001b[1m[\u001b[0m\u001b[34;49mnotice\u001b[0m\u001b[1;39;49m]\u001b[0m\u001b[39;49m To update, run: \u001b[0m\u001b[32;49mpython3.10 -m pip install --upgrade pip\u001b[0m\n"
     ]
    }
   ],
   "source": [
    "!pip install pandas"
   ]
  },
  {
   "cell_type": "code",
   "execution_count": 2,
   "id": "20998b02",
   "metadata": {
    "ExecuteTime": {
     "end_time": "2024-04-17T13:39:13.768340Z",
     "start_time": "2024-04-17T13:39:07.750493Z"
    }
   },
   "outputs": [
    {
     "name": "stdout",
     "output_type": "stream",
     "text": [
      "2020-04-03 00:00:00\n",
      "2021-01-31 00:00:00\n"
     ]
    }
   ],
   "source": [
    "#print min and max data from book data\n",
    "import pandas as pd\n",
    "\n",
    "ppp_data_book = pd.read_csv('../data/public_150k_plus_recent.csv')\n",
    "\n",
    "ppp_data_book['DateApproved'] = pd.to_datetime(ppp_data_book['DateApproved'], format='%m/%d/%Y')\n",
    "\n",
    "print(ppp_data_book['DateApproved'].min())\n",
    "print(ppp_data_book['DateApproved'].max())"
   ]
  },
  {
   "cell_type": "code",
   "execution_count": 3,
   "id": "53428225",
   "metadata": {
    "ExecuteTime": {
     "end_time": "2024-04-17T13:39:24.006676Z",
     "start_time": "2024-04-17T13:39:15.222791Z"
    }
   },
   "outputs": [
    {
     "name": "stdout",
     "output_type": "stream",
     "text": [
      "2020-04-03 00:00:00\n",
      "2021-01-31 00:00:00\n"
     ]
    }
   ],
   "source": [
    "#print min and max data from found data\n",
    "import pandas as pd\n",
    "\n",
    "ppp_data_found = pd.read_csv('../data/public_150k_plus_230930.csv')\n",
    "\n",
    "ppp_data_book['DateApproved'] = pd.to_datetime(ppp_data_book['DateApproved'], format='%m/%d/%Y')\n",
    "\n",
    "print(ppp_data_book['DateApproved'].min())\n",
    "print(ppp_data_book['DateApproved'].max())"
   ]
  },
  {
   "cell_type": "markdown",
   "id": "88cab316",
   "metadata": {},
   "source": [
    "Beiden Datenfiles haben dasselbe früheste bzw. späteste Datum. In diesem Bezug sind sie gleich aktuell.\n",
    "\n",
    "### File-Size / Row-Size\n",
    "\n",
    "- Gefundene Datensatz 452MB > Datensatz Buch 322.5 MB und zwar um 129.5 MB\n",
    "\n",
    "für Zeilenzahl gibts kurzes Script:"
   ]
  },
  {
   "cell_type": "code",
   "execution_count": 4,
   "id": "95f2ea34",
   "metadata": {
    "ExecuteTime": {
     "end_time": "2024-04-17T13:39:30.850441Z",
     "start_time": "2024-04-17T13:39:26.409949Z"
    }
   },
   "outputs": [
    {
     "name": "stdout",
     "output_type": "stream",
     "text": [
      "Book lines: 766500\n",
      "Found lines: 968526\n",
      "Gefundene Datensatz hat um: 202026 mehr Zeilen\n"
     ]
    }
   ],
   "source": [
    "data_book = open('../data/public_150k_plus_recent.csv', 'r')\n",
    "data_found = open('../data/public_150k_plus_230930.csv', 'r')\n",
    "\n",
    "lines_book = len(data_book.readlines())\n",
    "lines_found = len(data_found.readlines())\n",
    "\n",
    "print(f\"Book lines: {lines_book}\")\n",
    "print(f\"Found lines: {lines_found}\")\n",
    "print(f\"Gefundene Datensatz hat um: {lines_found - lines_book} mehr Zeilen\")"
   ]
  },
  {
   "cell_type": "markdown",
   "id": "8b84fd09",
   "metadata": {},
   "source": [
    "In diesem Bezug ist der gefundene Datensatz also aktueller\n",
    "\n",
    "### Inhaltsvergleich der beiden Dateien"
   ]
  },
  {
   "cell_type": "code",
   "execution_count": 5,
   "id": "aad83ebe",
   "metadata": {
    "ExecuteTime": {
     "end_time": "2024-04-17T13:39:49.556916Z",
     "start_time": "2024-04-17T13:39:32.623829Z"
    }
   },
   "outputs": [],
   "source": [
    "# quick script for creating new CSVs that each contain the first few rows of our larger data files\n",
    "\n",
    "import pandas as pd\n",
    "\n",
    "ppp_data_book = pd.read_csv('../data/public_150k_plus_recent.csv')\n",
    "ppp_data_found = pd.read_csv('../data/public_150k_plus_230930.csv')\n",
    "\n",
    "book_sample = ppp_data_book.head()\n",
    "found_sample = ppp_data_found.head()\n",
    "\n",
    "book_sample.to_csv('../data/book_sample.csv', index=False)\n",
    "found_sample.to_csv('../data/found_sample.csv', index=False)"
   ]
  },
  {
   "cell_type": "markdown",
   "id": "4c5222df",
   "metadata": {},
   "source": [
    "Gefundenen sind folgende Felder ausgefüllt, welche bei Buch Daten nicht ausgefüllt waren\n",
    "- LoanStatusDate\n",
    "- LoanSatatus war bei allen Paid in Full\n",
    "- LMIIndicator\n",
    "\n",
    "Neue Datei hat 2 neue Spalten\n",
    "- ForgivnessAmount\n",
    "- ForgivnessDate"
   ]
  },
  {
   "cell_type": "markdown",
   "id": "323acb5c",
   "metadata": {},
   "source": [
    "Merge der beiden Dateien um Unterschiede zu identifizieren"
   ]
  },
  {
   "cell_type": "code",
   "execution_count": 1,
   "id": "a16feca8",
   "metadata": {
    "ExecuteTime": {
     "end_time": "2024-04-17T13:40:54.303214Z",
     "start_time": "2024-04-17T13:40:27.800293Z"
    }
   },
   "outputs": [
    {
     "name": "stdout",
     "output_type": "stream",
     "text": [
      "_merge\n",
      "both          894727\n",
      "right_only    159139\n",
      "left_only      21299\n",
      "dtype: int64\n"
     ]
    }
   ],
   "source": [
    "import pandas as pd\n",
    "\n",
    "book_ppp_data = pd.read_csv('../data/public_150k_plus_recent.csv')\n",
    "found_ppp_data = pd.read_csv('../data/public_150k_plus_230930.csv')\n",
    "\n",
    "merged_data = pd.merge(book_ppp_data, found_ppp_data, how='outer', \n",
    "                       left_on=['BorrowerName'], \n",
    "                       right_on=['BorrowerName'], indicator=True)\n",
    "\n",
    "print(merged_data.value_counts('_merge'))"
   ]
  },
  {
   "cell_type": "markdown",
   "id": "53436a07",
   "metadata": {
    "ExecuteTime": {
     "start_time": "2024-04-14T08:14:27.190Z"
    }
   },
   "source": [
    "mit 'DateApproved' / ohne 'DateApproved' / nur 'BorrowerName'\n",
    "- both: 635611 / 736709 / 894722\n",
    "- right_only 333477 / 284830 / 159139\n",
    "- left_only 131432 / 130418 / 21299"
   ]
  },
  {
   "cell_type": "code",
   "execution_count": 2,
   "id": "ac3128af",
   "metadata": {
    "ExecuteTime": {
     "end_time": "2024-04-17T13:40:54.335676Z",
     "start_time": "2024-04-17T13:40:54.311400Z"
    }
   },
   "outputs": [
    {
     "data": {
      "text/plain": [
       "0.023831795569539523"
      ]
     },
     "execution_count": 2,
     "metadata": {},
     "output_type": "execute_result"
    }
   ],
   "source": [
    "21299/893722"
   ]
  },
  {
   "cell_type": "markdown",
   "id": "2d73a592",
   "metadata": {},
   "source": [
    "2% der Daten sind `verschwunden`. Hier sollte man beginnen nachzufragen, was ist passiert ist der Kredit nicht durchgegangen etc...."
   ]
  },
  {
   "cell_type": "markdown",
   "id": "1f1e24e6",
   "metadata": {},
   "source": [
    "## Is it Well-Annotated\n",
    "\n",
    "- try to find a data dictionary"
   ]
  },
  {
   "cell_type": "code",
   "execution_count": 3,
   "id": "6e53e1e7",
   "metadata": {
    "ExecuteTime": {
     "end_time": "2024-04-17T13:41:00.036094Z",
     "start_time": "2024-04-17T13:40:59.966362Z"
    }
   },
   "outputs": [
    {
     "name": "stdout",
     "output_type": "stream",
     "text": [
      "                                                             0  \\\n",
      "LoanNumber                                          9547507704   \n",
      "DateApproved                                        05/01/2020   \n",
      "SBAOfficeCode                                              464   \n",
      "ProcessingMethod                                           PPP   \n",
      "BorrowerName                             SUMTER COATINGS, INC.   \n",
      "BorrowerAddress                          2410 Highway 15 South   \n",
      "BorrowerCity                                            Sumter   \n",
      "BorrowerState                                             <NA>   \n",
      "BorrowerZip                                         29150-9662   \n",
      "LoanStatusDate                                      12/18/2020   \n",
      "LoanStatus                                        Paid in Full   \n",
      "Term                                                        24   \n",
      "SBAGuarantyPercentage                                      100   \n",
      "InitialApprovalAmount                                769358.78   \n",
      "CurrentApprovalAmount                                769358.78   \n",
      "UndisbursedAmount                                            0   \n",
      "FranchiseName                                             <NA>   \n",
      "ServicingLenderLocationID                                19248   \n",
      "ServicingLenderName                               Synovus Bank   \n",
      "ServicingLenderAddress                           1148 Broadway   \n",
      "ServicingLenderCity                                   COLUMBUS   \n",
      "ServicingLenderState                                        GA   \n",
      "ServicingLenderZip                                  31901-2429   \n",
      "RuralUrbanIndicator                                          U   \n",
      "HubzoneIndicator                                             N   \n",
      "LMIIndicator                                                 N   \n",
      "BusinessAgeDescription       Existing or more than 2 years old   \n",
      "ProjectCity                                             Sumter   \n",
      "ProjectCountyName                                       SUMTER   \n",
      "ProjectState                                                SC   \n",
      "ProjectZip                                          29150-9662   \n",
      "CD                                                       SC-05   \n",
      "JobsReported                                                62   \n",
      "NAICSCode                                               325510   \n",
      "Race                                                Unanswered   \n",
      "Ethnicity                                    Unknown/NotStated   \n",
      "UTILITIES_PROCEED                                         <NA>   \n",
      "PAYROLL_PROCEED                                      769358.78   \n",
      "MORTGAGE_INTEREST_PROCEED                                 <NA>   \n",
      "RENT_PROCEED                                              <NA>   \n",
      "REFINANCE_EIDL_PROCEED                                    <NA>   \n",
      "HEALTH_CARE_PROCEED                                       <NA>   \n",
      "DEBT_INTEREST_PROCEED                                     <NA>   \n",
      "BusinessType                                       Corporation   \n",
      "OriginatingLenderLocationID                              19248   \n",
      "OriginatingLender                                 Synovus Bank   \n",
      "OriginatingLenderCity                                 COLUMBUS   \n",
      "OriginatingLenderState                                      GA   \n",
      "Gender                                              Unanswered   \n",
      "Veteran                                             Unanswered   \n",
      "NonProfit                                                 <NA>   \n",
      "ForgivenessAmount                                    773553.37   \n",
      "ForgivenessDate                                     11/20/2020   \n",
      "\n",
      "                                                             1  \\\n",
      "LoanNumber                                          9777677704   \n",
      "DateApproved                                        05/01/2020   \n",
      "SBAOfficeCode                                              464   \n",
      "ProcessingMethod                                           PPP   \n",
      "BorrowerName                             PLEASANT PLACES, INC.   \n",
      "BorrowerAddress                            7684 Southrail Road   \n",
      "BorrowerCity                                  North Charleston   \n",
      "BorrowerState                                             <NA>   \n",
      "BorrowerZip                                         29420-9000   \n",
      "LoanStatusDate                                      09/28/2021   \n",
      "LoanStatus                                        Paid in Full   \n",
      "Term                                                        24   \n",
      "SBAGuarantyPercentage                                      100   \n",
      "InitialApprovalAmount                                736927.79   \n",
      "CurrentApprovalAmount                                736927.79   \n",
      "UndisbursedAmount                                            0   \n",
      "FranchiseName                                             <NA>   \n",
      "ServicingLenderLocationID                                19248   \n",
      "ServicingLenderName                               Synovus Bank   \n",
      "ServicingLenderAddress                           1148 Broadway   \n",
      "ServicingLenderCity                                   COLUMBUS   \n",
      "ServicingLenderState                                        GA   \n",
      "ServicingLenderZip                                  31901-2429   \n",
      "RuralUrbanIndicator                                          U   \n",
      "HubzoneIndicator                                             Y   \n",
      "LMIIndicator                                                 Y   \n",
      "BusinessAgeDescription       Existing or more than 2 years old   \n",
      "ProjectCity                                   North Charleston   \n",
      "ProjectCountyName                                   CHARLESTON   \n",
      "ProjectState                                                SC   \n",
      "ProjectZip                                          29420-9000   \n",
      "CD                                                       SC-06   \n",
      "JobsReported                                                73   \n",
      "NAICSCode                                               561730   \n",
      "Race                                                     White   \n",
      "Ethnicity                                    Unknown/NotStated   \n",
      "UTILITIES_PROCEED                                         <NA>   \n",
      "PAYROLL_PROCEED                                      736927.79   \n",
      "MORTGAGE_INTEREST_PROCEED                                 <NA>   \n",
      "RENT_PROCEED                                              <NA>   \n",
      "REFINANCE_EIDL_PROCEED                                    <NA>   \n",
      "HEALTH_CARE_PROCEED                                       <NA>   \n",
      "DEBT_INTEREST_PROCEED                                     <NA>   \n",
      "BusinessType                               Sole Proprietorship   \n",
      "OriginatingLenderLocationID                              19248   \n",
      "OriginatingLender                                 Synovus Bank   \n",
      "OriginatingLenderCity                                 COLUMBUS   \n",
      "OriginatingLenderState                                      GA   \n",
      "Gender                                              Male Owned   \n",
      "Veteran                                            Non-Veteran   \n",
      "NonProfit                                                 <NA>   \n",
      "ForgivenessAmount                                    746336.24   \n",
      "ForgivenessDate                                     08/12/2021   \n",
      "\n",
      "                                                                 2  \\\n",
      "LoanNumber                                              5791407702   \n",
      "DateApproved                                            05/01/2020   \n",
      "SBAOfficeCode                                                 1013   \n",
      "ProcessingMethod                                               PPP   \n",
      "BorrowerName                               BOYER CHILDREN'S CLINIC   \n",
      "BorrowerAddress                                   1850 BOYER AVE E   \n",
      "BorrowerCity                                               SEATTLE   \n",
      "BorrowerState                                                 <NA>   \n",
      "BorrowerZip                                             98112-2922   \n",
      "LoanStatusDate                                          03/17/2021   \n",
      "LoanStatus                                            Paid in Full   \n",
      "Term                                                            24   \n",
      "SBAGuarantyPercentage                                          100   \n",
      "InitialApprovalAmount                                     691355.0   \n",
      "CurrentApprovalAmount                                     691355.0   \n",
      "UndisbursedAmount                                                0   \n",
      "FranchiseName                                                 <NA>   \n",
      "ServicingLenderLocationID                                     9551   \n",
      "ServicingLenderName          Bank of America, National Association   \n",
      "ServicingLenderAddress                     100 N Tryon St, Ste 170   \n",
      "ServicingLenderCity                                      CHARLOTTE   \n",
      "ServicingLenderState                                            NC   \n",
      "ServicingLenderZip                                      28202-4024   \n",
      "RuralUrbanIndicator                                              U   \n",
      "HubzoneIndicator                                                 N   \n",
      "LMIIndicator                                                     N   \n",
      "BusinessAgeDescription             New Business or 2 years or less   \n",
      "ProjectCity                                                SEATTLE   \n",
      "ProjectCountyName                                             KING   \n",
      "ProjectState                                                    WA   \n",
      "ProjectZip                                              98112-2922   \n",
      "CD                                                           WA-07   \n",
      "JobsReported                                                    75   \n",
      "NAICSCode                                                     <NA>   \n",
      "Race                                                    Unanswered   \n",
      "Ethnicity                                        Unknown/NotStated   \n",
      "UTILITIES_PROCEED                                             <NA>   \n",
      "PAYROLL_PROCEED                                           691355.0   \n",
      "MORTGAGE_INTEREST_PROCEED                                     <NA>   \n",
      "RENT_PROCEED                                                  <NA>   \n",
      "REFINANCE_EIDL_PROCEED                                        <NA>   \n",
      "HEALTH_CARE_PROCEED                                           <NA>   \n",
      "DEBT_INTEREST_PROCEED                                         <NA>   \n",
      "BusinessType                               Non-Profit Organization   \n",
      "OriginatingLenderLocationID                                   9551   \n",
      "OriginatingLender            Bank of America, National Association   \n",
      "OriginatingLenderCity                                    CHARLOTTE   \n",
      "OriginatingLenderState                                          NC   \n",
      "Gender                                                  Unanswered   \n",
      "Veteran                                                 Unanswered   \n",
      "NonProfit                                                        Y   \n",
      "ForgivenessAmount                                        696677.49   \n",
      "ForgivenessDate                                         02/10/2021   \n",
      "\n",
      "                                                                 3  \\\n",
      "LoanNumber                                              6223567700   \n",
      "DateApproved                                            05/01/2020   \n",
      "SBAOfficeCode                                                  920   \n",
      "ProcessingMethod                                               PPP   \n",
      "BorrowerName                              KIRTLEY CONSTRUCTION INC   \n",
      "BorrowerAddress                               1661 MARTIN RANCH RD   \n",
      "BorrowerCity                                        SAN BERNARDINO   \n",
      "BorrowerState                                                 <NA>   \n",
      "BorrowerZip                                             92407-1740   \n",
      "LoanStatusDate                                          10/16/2021   \n",
      "LoanStatus                                            Paid in Full   \n",
      "Term                                                            24   \n",
      "SBAGuarantyPercentage                                          100   \n",
      "InitialApprovalAmount                                     499871.0   \n",
      "CurrentApprovalAmount                                     499871.0   \n",
      "UndisbursedAmount                                                0   \n",
      "FranchiseName                                                 <NA>   \n",
      "ServicingLenderLocationID                                     9551   \n",
      "ServicingLenderName          Bank of America, National Association   \n",
      "ServicingLenderAddress                     100 N Tryon St, Ste 170   \n",
      "ServicingLenderCity                                      CHARLOTTE   \n",
      "ServicingLenderState                                            NC   \n",
      "ServicingLenderZip                                      28202-4024   \n",
      "RuralUrbanIndicator                                              U   \n",
      "HubzoneIndicator                                                 N   \n",
      "LMIIndicator                                                     N   \n",
      "BusinessAgeDescription             New Business or 2 years or less   \n",
      "ProjectCity                                         SAN BERNARDINO   \n",
      "ProjectCountyName                                   SAN BERNARDINO   \n",
      "ProjectState                                                    CA   \n",
      "ProjectZip                                              92407-1740   \n",
      "CD                                                           CA-23   \n",
      "JobsReported                                                    21   \n",
      "NAICSCode                                                   236115   \n",
      "Race                              American Indian or Alaska Native   \n",
      "Ethnicity                                   Not Hispanic or Latino   \n",
      "UTILITIES_PROCEED                                             <NA>   \n",
      "PAYROLL_PROCEED                                           499871.0   \n",
      "MORTGAGE_INTEREST_PROCEED                                     <NA>   \n",
      "RENT_PROCEED                                                  <NA>   \n",
      "REFINANCE_EIDL_PROCEED                                        <NA>   \n",
      "HEALTH_CARE_PROCEED                                           <NA>   \n",
      "DEBT_INTEREST_PROCEED                                         <NA>   \n",
      "BusinessType                                           Corporation   \n",
      "OriginatingLenderLocationID                                   9551   \n",
      "OriginatingLender            Bank of America, National Association   \n",
      "OriginatingLenderCity                                    CHARLOTTE   \n",
      "OriginatingLenderState                                          NC   \n",
      "Gender                                                  Male Owned   \n",
      "Veteran                                                Non-Veteran   \n",
      "NonProfit                                                     <NA>   \n",
      "ForgivenessAmount                                        395264.11   \n",
      "ForgivenessDate                                         09/10/2021   \n",
      "\n",
      "                                                        4  \n",
      "LoanNumber                                     9662437702  \n",
      "DateApproved                                   05/01/2020  \n",
      "SBAOfficeCode                                         101  \n",
      "ProcessingMethod                                      PPP  \n",
      "BorrowerName                                 AERO BOX LLC  \n",
      "BorrowerAddress                                      <NA>  \n",
      "BorrowerCity                                         <NA>  \n",
      "BorrowerState                                        <NA>  \n",
      "BorrowerZip                                          <NA>  \n",
      "LoanStatusDate                                 08/17/2021  \n",
      "LoanStatus                                   Paid in Full  \n",
      "Term                                                   24  \n",
      "SBAGuarantyPercentage                                 100  \n",
      "InitialApprovalAmount                            367437.0  \n",
      "CurrentApprovalAmount                            367437.0  \n",
      "UndisbursedAmount                                       0  \n",
      "FranchiseName                                        <NA>  \n",
      "ServicingLenderLocationID                           57328  \n",
      "ServicingLenderName          The Huntington National Bank  \n",
      "ServicingLenderAddress                      17 S High St.  \n",
      "ServicingLenderCity                              COLUMBUS  \n",
      "ServicingLenderState                                   OH  \n",
      "ServicingLenderZip                             43215-3413  \n",
      "RuralUrbanIndicator                                     U  \n",
      "HubzoneIndicator                                        N  \n",
      "LMIIndicator                                            N  \n",
      "BusinessAgeDescription                         Unanswered  \n",
      "ProjectCity                                          <NA>  \n",
      "ProjectCountyName                                    <NA>  \n",
      "ProjectState                                         <NA>  \n",
      "ProjectZip                                           <NA>  \n",
      "CD                                                   <NA>  \n",
      "JobsReported                                           25  \n",
      "NAICSCode                                          484210  \n",
      "Race                                           Unanswered  \n",
      "Ethnicity                               Unknown/NotStated  \n",
      "UTILITIES_PROCEED                                    <NA>  \n",
      "PAYROLL_PROCEED                                  367437.0  \n",
      "MORTGAGE_INTEREST_PROCEED                            <NA>  \n",
      "RENT_PROCEED                                         <NA>  \n",
      "REFINANCE_EIDL_PROCEED                               <NA>  \n",
      "HEALTH_CARE_PROCEED                                  <NA>  \n",
      "DEBT_INTEREST_PROCEED                                <NA>  \n",
      "BusinessType                                         <NA>  \n",
      "OriginatingLenderLocationID                         57328  \n",
      "OriginatingLender            The Huntington National Bank  \n",
      "OriginatingLenderCity                            COLUMBUS  \n",
      "OriginatingLenderState                                 OH  \n",
      "Gender                                         Unanswered  \n",
      "Veteran                                        Unanswered  \n",
      "NonProfit                                            <NA>  \n",
      "ForgivenessAmount                               370819.35  \n",
      "ForgivenessDate                                04/08/2021  \n"
     ]
    }
   ],
   "source": [
    "# quick script for reviewing all the column names in the PPP data to see what we can infeer abut them from\n",
    "# the data itself\n",
    "\n",
    "import pandas as pd\n",
    "\n",
    "ppp_data_sample = pd.read_csv('../data/found_sample.csv')\n",
    "\n",
    "# convert all missing data entries to '<NA>' sing the convertdtypes() method\n",
    "converted_data_sample = ppp_data_sample.convert_dtypes()\n",
    "\n",
    "transposed_ppp_data_sample = converted_data_sample.transpose()\n",
    "\n",
    "print(transposed_ppp_data_sample)"
   ]
  },
  {
   "cell_type": "markdown",
   "id": "aa281a09",
   "metadata": {},
   "source": [
    "## Is it high volume\n",
    "- es ist klar das viele Zeilen vorhanden sind\n",
    "- nicht klar ist wieviele Datenfelder tatsächlich ausgefüllt worden sind"
   ]
  },
  {
   "cell_type": "code",
   "execution_count": 4,
   "id": "b849935b",
   "metadata": {
    "ExecuteTime": {
     "end_time": "2024-04-17T13:41:15.599267Z",
     "start_time": "2024-04-17T13:41:05.369036Z"
    }
   },
   "outputs": [
    {
     "name": "stdout",
     "output_type": "stream",
     "text": [
      "LoanStatus\n",
      "Paid in Full    937553\n",
      "Charged Off      15879\n",
      "Exemption 4      15093\n",
      "dtype: int64\n",
      "968525\n",
      "\n",
      "Gender\n",
      "Unanswered      579889\n",
      "Male Owned      315819\n",
      "Female Owned     72817\n",
      "dtype: int64\n",
      "968525\n",
      "\n",
      "14\n"
     ]
    }
   ],
   "source": [
    "# quick script for reviewing all the column names in the PPP data to see what we can\n",
    "# infer about them from the data itself\n",
    "\n",
    "import pandas as pd\n",
    "\n",
    "ppp_data = pd.read_csv('../data/public_150k_plus_230930.csv')\n",
    "\n",
    "print(ppp_data.value_counts('LoanStatus'))\n",
    "print(sum(ppp_data.value_counts('LoanStatus')))\n",
    "\n",
    "print()\n",
    "print(ppp_data.value_counts('Gender'))\n",
    "print(sum(ppp_data.value_counts('Gender')))\n",
    "\n",
    "print()\n",
    "print(ppp_data['BorrowerAddress'].isna().sum())"
   ]
  },
  {
   "cell_type": "markdown",
   "id": "cebad19c",
   "metadata": {},
   "source": [
    "### Is it Consistent?"
   ]
  },
  {
   "cell_type": "code",
   "execution_count": 2,
   "id": "189b8d36",
   "metadata": {
    "ExecuteTime": {
     "end_time": "2024-04-17T13:46:04.653816Z",
     "start_time": "2024-04-17T13:45:56.211040Z"
    }
   },
   "outputs": [
    {
     "name": "stdout",
     "output_type": "stream",
     "text": [
      "150000.0\n",
      "10000000.0\n"
     ]
    }
   ],
   "source": [
    "# quick script for finding the minimum and maximum loans currently approved in our PPP loan dataset\n",
    "\n",
    "import pandas as pd\n",
    "\n",
    "ppp_data = pd.read_csv('../data/public_150k_plus_230930.csv')\n",
    "print(ppp_data['CurrentApprovalAmount'].min())\n",
    "print(ppp_data['CurrentApprovalAmount'].max())"
   ]
  },
  {
   "cell_type": "markdown",
   "id": "6b3fc4de",
   "metadata": {},
   "source": [
    "check for spelling issues\n",
    "\n",
    "Fingerprinting (clustering)\n",
    "1. Removes leading and trailing whitespaces\n",
    "2. Changes all characters to their lowercase representation\n",
    "3. Remove all puntuation and control chartacters\n",
    "4. Normalized extended Western characters to their ASCII representation 'gödel' => 'godel'\n",
    "5. Splits the string into whitespace-seperated tokens\n",
    "6. Sorts the tokens and removes duplicates\n",
    "7. Join the tokens back together"
   ]
  },
  {
   "cell_type": "code",
   "execution_count": 3,
   "id": "ad0d2eab",
   "metadata": {
    "ExecuteTime": {
     "end_time": "2024-04-17T13:50:15.341189Z",
     "start_time": "2024-04-17T13:50:12.670065Z"
    }
   },
   "outputs": [
    {
     "name": "stdout",
     "output_type": "stream",
     "text": [
      "Defaulting to user installation because normal site-packages is not writeable\n",
      "Collecting fingerprints\n",
      "  Downloading fingerprints-1.2.3-py2.py3-none-any.whl (17 kB)\n",
      "Collecting normality<=3.0.0,>=2.0.0 (from fingerprints)\n",
      "  Downloading normality-2.5.0-py2.py3-none-any.whl (16 kB)\n",
      "Collecting banal>=1.0.1 (from normality<=3.0.0,>=2.0.0->fingerprints)\n",
      "  Downloading banal-1.0.6-py2.py3-none-any.whl (6.1 kB)\n",
      "Collecting text-unidecode (from normality<=3.0.0,>=2.0.0->fingerprints)\n",
      "  Downloading text_unidecode-1.3-py2.py3-none-any.whl (78 kB)\n",
      "\u001b[2K     \u001b[90m━━━━━━━━━━━━━━━━━━━━━━━━━━━━━━━━━━━━━━━━\u001b[0m \u001b[32m78.2/78.2 kB\u001b[0m \u001b[31m1.9 MB/s\u001b[0m eta \u001b[36m0:00:00\u001b[0ma \u001b[36m0:00:01\u001b[0m\n",
      "\u001b[?25hCollecting chardet (from normality<=3.0.0,>=2.0.0->fingerprints)\n",
      "  Downloading chardet-5.2.0-py3-none-any.whl (199 kB)\n",
      "\u001b[2K     \u001b[90m━━━━━━━━━━━━━━━━━━━━━━━━━━━━━━━━━━━━━━━\u001b[0m \u001b[32m199.4/199.4 kB\u001b[0m \u001b[31m5.1 MB/s\u001b[0m eta \u001b[36m0:00:00\u001b[0m00:01\u001b[0m\n",
      "\u001b[?25hRequirement already satisfied: charset-normalizer>=2.0.0 in /home/pyspark-client/.local/lib/python3.10/site-packages (from normality<=3.0.0,>=2.0.0->fingerprints) (3.1.0)\n",
      "Installing collected packages: text-unidecode, banal, chardet, normality, fingerprints\n",
      "Successfully installed banal-1.0.6 chardet-5.2.0 fingerprints-1.2.3 normality-2.5.0 text-unidecode-1.3\n",
      "\n",
      "\u001b[1m[\u001b[0m\u001b[34;49mnotice\u001b[0m\u001b[1;39;49m]\u001b[0m\u001b[39;49m A new release of pip is available: \u001b[0m\u001b[31;49m23.1.2\u001b[0m\u001b[39;49m -> \u001b[0m\u001b[32;49m24.0\u001b[0m\n",
      "\u001b[1m[\u001b[0m\u001b[34;49mnotice\u001b[0m\u001b[1;39;49m]\u001b[0m\u001b[39;49m To update, run: \u001b[0m\u001b[32;49mpython3.10 -m pip install --upgrade pip\u001b[0m\n",
      "Note: you may need to restart the kernel to use updated packages.\n"
     ]
    }
   ],
   "source": [
    "pip install fingerprints"
   ]
  },
  {
   "cell_type": "code",
   "execution_count": 4,
   "id": "12013824",
   "metadata": {
    "ExecuteTime": {
     "end_time": "2024-04-17T13:54:30.262954Z",
     "start_time": "2024-04-17T13:54:20.506734Z"
    }
   },
   "outputs": [
    {
     "name": "stdout",
     "output_type": "stream",
     "text": [
      "4236\n",
      "4137\n"
     ]
    },
    {
     "name": "stderr",
     "output_type": "stream",
     "text": [
      "/home/pyspark-client/.local/lib/python3.10/site-packages/fingerprints/cleanup.py:66: ICUWarning: Install 'pyicu' for better text transliteration.\n",
      "  text = ascii_text(text)\n"
     ]
    }
   ],
   "source": [
    "# quick scipt for determining wheter there are typos &c. in any of the PPP loan data's bank names\n",
    "\n",
    "import pandas as pd\n",
    "import fingerprints\n",
    "\n",
    "ppp_data = pd.read_csv('../data/public_150k_plus_230930.csv')\n",
    "\n",
    "unique_names = ppp_data['OriginatingLender'].unique()\n",
    "print(len(unique_names))\n",
    "\n",
    "fingerprint_list = []\n",
    "for name in unique_names:\n",
    "    fingerprint_list.append(fingerprints.generate(name))\n",
    "    \n",
    "fingerprint_set = set(fingerprint_list)\n",
    "print(len(fingerprint_set))"
   ]
  },
  {
   "cell_type": "markdown",
   "id": "e9980fdd",
   "metadata": {},
   "source": [
    "### Is it multi-variant\n",
    "\n",
    "wieviele spalten gibt es, welche davon enthalten einen Wert"
   ]
  },
  {
   "cell_type": "code",
   "execution_count": 11,
   "id": "f5c308af",
   "metadata": {
    "ExecuteTime": {
     "end_time": "2024-04-17T14:13:13.024318Z",
     "start_time": "2024-04-17T14:13:12.739197Z"
    }
   },
   "outputs": [
    {
     "name": "stdout",
     "output_type": "stream",
     "text": [
      "629156\n",
      "1832\n",
      "922353\n",
      "868995\n",
      "945677\n",
      "911084\n",
      "936818\n",
      "597118\n"
     ]
    }
   ],
   "source": [
    "# quick script for determining what borrowers did (or really, did not) state they would use PPP loan funds for\n",
    "print(ppp_data['UTILITIES_PROCEED'].isna().sum())\n",
    "print(ppp_data['PAYROLL_PROCEED'].isna().sum())\n",
    "print(ppp_data['MORTGAGE_INTEREST_PROCEED'].isna().sum())\n",
    "print(ppp_data['RENT_PROCEED'].isna().sum())\n",
    "print(ppp_data['REFINANCE_EIDL_PROCEED'].isna().sum())\n",
    "print(ppp_data['HEALTH_CARE_PROCEED'].isna().sum())\n",
    "print(ppp_data['DEBT_INTEREST_PROCEED'].isna().sum())\n",
    "\n",
    "payroll_only = ppp_data[\n",
    "    (ppp_data['UTILITIES_PROCEED'].isna()) & \n",
    "    (ppp_data['MORTGAGE_INTEREST_PROCEED'].isna()) &\n",
    "    (ppp_data['RENT_PROCEED'].isna()) &\n",
    "    (ppp_data['REFINANCE_EIDL_PROCEED'].isna()) &\n",
    "    (ppp_data['HEALTH_CARE_PROCEED'].isna()) &\n",
    "    (ppp_data['DEBT_INTEREST_PROCEED'].isna())\n",
    "]\n",
    "\n",
    "print(len(payroll_only.index))"
   ]
  },
  {
   "cell_type": "markdown",
   "id": "00f3a9b5",
   "metadata": {},
   "source": [
    "## Assessing Data Fit\n",
    "### Validity\n"
   ]
  },
  {
   "cell_type": "code",
   "execution_count": 13,
   "id": "3de3db5d",
   "metadata": {
    "ExecuteTime": {
     "end_time": "2024-04-17T14:24:31.615963Z",
     "start_time": "2024-04-17T14:24:31.491603Z"
    }
   },
   "outputs": [
    {
     "name": "stdout",
     "output_type": "stream",
     "text": [
      "Paid in Full    937553\n",
      "Charged Off      15879\n",
      "Exemption 4      15093\n",
      "Name: LoanStatus, dtype: int64\n",
      "968525\n"
     ]
    }
   ],
   "source": [
    "# determining how many loans have been disbured\n",
    "print(ppp_data['LoanStatus'].value_counts())\n",
    "print(sum(ppp_data['LoanStatus'].value_counts()))"
   ]
  },
  {
   "cell_type": "code",
   "execution_count": null,
   "id": "2d45dddb",
   "metadata": {},
   "outputs": [],
   "source": []
  }
 ],
 "metadata": {
  "kernelspec": {
   "display_name": "Python 3 (ipykernel)",
   "language": "python",
   "name": "python3"
  },
  "language_info": {
   "codemirror_mode": {
    "name": "ipython",
    "version": 3
   },
   "file_extension": ".py",
   "mimetype": "text/x-python",
   "name": "python",
   "nbconvert_exporter": "python",
   "pygments_lexer": "ipython3",
   "version": "3.10.8"
  },
  "toc": {
   "base_numbering": 1,
   "nav_menu": {},
   "number_sections": true,
   "sideBar": true,
   "skip_h1_title": false,
   "title_cell": "Table of Contents",
   "title_sidebar": "Contents",
   "toc_cell": false,
   "toc_position": {},
   "toc_section_display": true,
   "toc_window_display": false
  }
 },
 "nbformat": 4,
 "nbformat_minor": 5
}
