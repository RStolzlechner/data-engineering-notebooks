{
 "cells": [
  {
   "cell_type": "markdown",
   "id": "e18b60b2",
   "metadata": {},
   "source": [
    "A basic example of downloading data from the web with Python,\n",
    "using the requests library\n",
    "\n",
    "the source data we are dwonloading will come from the following URLs:\n",
    "- http://feeds.bbci.co.uk/news/science_and_environment/rss.xml\n",
    "- https://gbfs.citibikenyc.com/gbfs/en/station_status.json"
   ]
  },
  {
   "cell_type": "markdown",
   "id": "bfa5965b",
   "metadata": {},
   "source": [
    "the `requests` library lats us write Python code that acts like a web browser"
   ]
  },
  {
   "cell_type": "code",
   "execution_count": 1,
   "id": "8d29afbf",
   "metadata": {
    "ExecuteTime": {
     "end_time": "2024-04-11T09:22:15.735048Z",
     "start_time": "2024-04-11T09:22:15.639413Z"
    }
   },
   "outputs": [],
   "source": [
    "import requests"
   ]
  },
  {
   "cell_type": "code",
   "execution_count": 4,
   "id": "74837107",
   "metadata": {
    "ExecuteTime": {
     "end_time": "2024-04-11T09:22:59.521154Z",
     "start_time": "2024-04-11T09:22:59.517252Z"
    }
   },
   "outputs": [],
   "source": [
    "# our chosen XML filename\n",
    "XMLfilename = \"BBC_RSS.xml\""
   ]
  },
  {
   "cell_type": "code",
   "execution_count": 5,
   "id": "e38c1b0e",
   "metadata": {
    "ExecuteTime": {
     "end_time": "2024-04-11T09:23:22.724402Z",
     "start_time": "2024-04-11T09:23:22.719618Z"
    }
   },
   "outputs": [],
   "source": [
    "xml_output_file = open(XMLfilename, \"w\")"
   ]
  },
  {
   "cell_type": "code",
   "execution_count": 6,
   "id": "02defa8c",
   "metadata": {
    "ExecuteTime": {
     "end_time": "2024-04-11T09:23:59.253036Z",
     "start_time": "2024-04-11T09:23:58.944118Z"
    }
   },
   "outputs": [],
   "source": [
    "xml_data=requests.get('http://feeds.bbci.co.uk/news/science_and_environment/rss.xml')"
   ]
  },
  {
   "cell_type": "code",
   "execution_count": 7,
   "id": "89db9c62",
   "metadata": {
    "ExecuteTime": {
     "end_time": "2024-04-11T09:24:26.678547Z",
     "start_time": "2024-04-11T09:24:26.672468Z"
    }
   },
   "outputs": [
    {
     "data": {
      "text/plain": [
       "13349"
      ]
     },
     "execution_count": 7,
     "metadata": {},
     "output_type": "execute_result"
    }
   ],
   "source": [
    "xml_output_file.write(xml_data.text)"
   ]
  },
  {
   "cell_type": "code",
   "execution_count": 8,
   "id": "33001be8",
   "metadata": {
    "ExecuteTime": {
     "end_time": "2024-04-11T09:24:41.133889Z",
     "start_time": "2024-04-11T09:24:41.128085Z"
    }
   },
   "outputs": [],
   "source": [
    "xml_output_file.close()"
   ]
  },
  {
   "cell_type": "code",
   "execution_count": 9,
   "id": "87593193",
   "metadata": {
    "ExecuteTime": {
     "end_time": "2024-04-11T09:25:20.869048Z",
     "start_time": "2024-04-11T09:25:20.866068Z"
    }
   },
   "outputs": [],
   "source": [
    "JSONFilename = \"citibikeenyc_statition_status.json\""
   ]
  },
  {
   "cell_type": "code",
   "execution_count": 10,
   "id": "aabe6fef",
   "metadata": {
    "ExecuteTime": {
     "end_time": "2024-04-11T09:25:47.492668Z",
     "start_time": "2024-04-11T09:25:47.488000Z"
    }
   },
   "outputs": [],
   "source": [
    "json_output_file = open(JSONFilename, \"w\")"
   ]
  },
  {
   "cell_type": "code",
   "execution_count": 12,
   "id": "365a0ebd",
   "metadata": {
    "ExecuteTime": {
     "end_time": "2024-04-11T09:26:36.082531Z",
     "start_time": "2024-04-11T09:26:35.745041Z"
    }
   },
   "outputs": [],
   "source": [
    "json_data = requests.get('https://gbfs.citibikenyc.com/gbfs/en/station_status.json')"
   ]
  },
  {
   "cell_type": "code",
   "execution_count": 13,
   "id": "873b0c4c",
   "metadata": {
    "ExecuteTime": {
     "end_time": "2024-04-11T09:27:04.064293Z",
     "start_time": "2024-04-11T09:27:04.056418Z"
    }
   },
   "outputs": [
    {
     "data": {
      "text/plain": [
       "851357"
      ]
     },
     "execution_count": 13,
     "metadata": {},
     "output_type": "execute_result"
    }
   ],
   "source": [
    "json_output_file.write(json_data.text)"
   ]
  },
  {
   "cell_type": "code",
   "execution_count": 14,
   "id": "1b4fabac",
   "metadata": {
    "ExecuteTime": {
     "end_time": "2024-04-11T09:27:13.555921Z",
     "start_time": "2024-04-11T09:27:13.551470Z"
    }
   },
   "outputs": [],
   "source": [
    "json_output_file.close()"
   ]
  },
  {
   "cell_type": "code",
   "execution_count": null,
   "id": "cdfad9a9",
   "metadata": {},
   "outputs": [],
   "source": []
  }
 ],
 "metadata": {
  "kernelspec": {
   "display_name": "Python 3 (ipykernel)",
   "language": "python",
   "name": "python3"
  },
  "language_info": {
   "codemirror_mode": {
    "name": "ipython",
    "version": 3
   },
   "file_extension": ".py",
   "mimetype": "text/x-python",
   "name": "python",
   "nbconvert_exporter": "python",
   "pygments_lexer": "ipython3",
   "version": "3.10.8"
  },
  "toc": {
   "base_numbering": 1,
   "nav_menu": {},
   "number_sections": true,
   "sideBar": true,
   "skip_h1_title": false,
   "title_cell": "Table of Contents",
   "title_sidebar": "Contents",
   "toc_cell": false,
   "toc_position": {},
   "toc_section_display": true,
   "toc_window_display": false
  }
 },
 "nbformat": 4,
 "nbformat_minor": 5
}
