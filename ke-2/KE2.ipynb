{
 "cells": [
  {
   "cell_type": "raw",
   "metadata": {},
   "source": [
    "Name:Ricardo Stolzlechner\n",
    "Matrikelnummer:9463470"
   ]
  },
  {
   "cell_type": "markdown",
   "metadata": {},
   "source": [
    "___"
   ]
  },
  {
   "cell_type": "code",
   "execution_count": 1,
   "metadata": {
    "ExecuteTime": {
     "end_time": "2024-04-20T07:02:00.207880Z",
     "start_time": "2024-04-20T07:01:59.767806Z"
    }
   },
   "outputs": [],
   "source": [
    "# Imports\n",
    "import pandas as pd"
   ]
  },
  {
   "cell_type": "markdown",
   "metadata": {},
   "source": [
    "___\n",
    "**_Bitte beachten:_**\n",
    "\n",
    "- In Code-Zellen soll (bei Bedarf kommentierter) Code eingefügt werden. In Raw-Zellen erwarten wir Antworten im Freitext-Format.\n",
    "- Fragestellungen sind teilweise bewusst etwas offener formuliert, weil Sie auch im Arbeitsleben nur selten mit ganz spezifischen Anweisungen rechnen können. Es gibt häufig mehrere mögliche Lösungen, dies wird in der Korrektur  berücksichtigt.\n",
    "\n",
    "___"
   ]
  },
  {
   "cell_type": "markdown",
   "metadata": {},
   "source": [
    "# (I can't get no) satisfaction\n",
    "Wir werden in diesem Kurs mit einem Datensatz arbeiten, der verschiedene Informationen über Angestellte einer fiktiven Firma namens *Fiktiva* enthält. Mithilfe des Datensatzes soll die Fragestellung beantwortet werden, ob ein\\*e Angestellte\\*r in der Firma zufrieden ist (`satisfied = 1`) oder nicht (`satisfied = 0`). In dieser Kurseinheit werden wir uns mit den Daten vertraut machen und mit einigen Fragen zur Datenqualität auseinandersetzen. Wir gehen für die weiteren Analysen davon aus, dass diese Analyse, die Sie nun durchführen, Anfang März 2021 stattfindet (und somit kurz nach der Erhebung der Daten).\n",
    "\n",
    "Manchmal werden zur Beantwortung von Fragen weitere Informationen benötigt. Sie können hierfür auch externe Quellen verwenden und bspw. die Datei `metadata.txt` zu Rate ziehen, aber auch alle Informationen aus dem Fiktiva-Newsletter. "
   ]
  },
  {
   "cell_type": "markdown",
   "metadata": {},
   "source": [
    "## Daten laden\n",
    "Den Datensatz (*employees_satisfaction.csv*) finden Sie im Moodle. Laden Sie ihn in ein Pandas-Dataframe, so dass die erste Spalte als Index (Row Label) verwendet wird. Geben Sie die ersten 10 Zeilen aus. "
   ]
  },
  {
   "cell_type": "code",
   "execution_count": 2,
   "metadata": {
    "ExecuteTime": {
     "end_time": "2024-04-20T07:02:01.863528Z",
     "start_time": "2024-04-20T07:02:01.832716Z"
    }
   },
   "outputs": [
    {
     "data": {
      "text/html": [
       "<div>\n",
       "<style scoped>\n",
       "    .dataframe tbody tr th:only-of-type {\n",
       "        vertical-align: middle;\n",
       "    }\n",
       "\n",
       "    .dataframe tbody tr th {\n",
       "        vertical-align: top;\n",
       "    }\n",
       "\n",
       "    .dataframe thead th {\n",
       "        text-align: right;\n",
       "    }\n",
       "</style>\n",
       "<table border=\"1\" class=\"dataframe\">\n",
       "  <thead>\n",
       "    <tr style=\"text-align: right;\">\n",
       "      <th></th>\n",
       "      <th>emp_id</th>\n",
       "      <th>age</th>\n",
       "      <th>Dept</th>\n",
       "      <th>education</th>\n",
       "      <th>recruitment_type</th>\n",
       "      <th>job_level</th>\n",
       "      <th>rating</th>\n",
       "      <th>awards</th>\n",
       "      <th>certifications</th>\n",
       "      <th>salary</th>\n",
       "      <th>gender</th>\n",
       "      <th>entry_date</th>\n",
       "      <th>last_raise</th>\n",
       "      <th>satisfied</th>\n",
       "    </tr>\n",
       "  </thead>\n",
       "  <tbody>\n",
       "    <tr>\n",
       "      <th>0</th>\n",
       "      <td>HR8270</td>\n",
       "      <td>28</td>\n",
       "      <td>HR</td>\n",
       "      <td>PG</td>\n",
       "      <td>Referral</td>\n",
       "      <td>5</td>\n",
       "      <td>2.0</td>\n",
       "      <td>1</td>\n",
       "      <td>0</td>\n",
       "      <td>86750</td>\n",
       "      <td>m</td>\n",
       "      <td>2019-02-01</td>\n",
       "      <td>NaN</td>\n",
       "      <td>1</td>\n",
       "    </tr>\n",
       "    <tr>\n",
       "      <th>1</th>\n",
       "      <td>TECH1860</td>\n",
       "      <td>50</td>\n",
       "      <td>Technology</td>\n",
       "      <td>PG</td>\n",
       "      <td>Recruitment Agency</td>\n",
       "      <td>3</td>\n",
       "      <td>5.0</td>\n",
       "      <td>2</td>\n",
       "      <td>1</td>\n",
       "      <td>42419</td>\n",
       "      <td>Male</td>\n",
       "      <td>2017-01-17</td>\n",
       "      <td>NaN</td>\n",
       "      <td>0</td>\n",
       "    </tr>\n",
       "    <tr>\n",
       "      <th>2</th>\n",
       "      <td>TECH6390</td>\n",
       "      <td>43</td>\n",
       "      <td>Technology</td>\n",
       "      <td>UG</td>\n",
       "      <td>Referral</td>\n",
       "      <td>4</td>\n",
       "      <td>1.0</td>\n",
       "      <td>2</td>\n",
       "      <td>0</td>\n",
       "      <td>65715</td>\n",
       "      <td>f</td>\n",
       "      <td>2012-08-27</td>\n",
       "      <td>NaN</td>\n",
       "      <td>1</td>\n",
       "    </tr>\n",
       "    <tr>\n",
       "      <th>3</th>\n",
       "      <td>SAL6191</td>\n",
       "      <td>44</td>\n",
       "      <td>Sales</td>\n",
       "      <td>PG</td>\n",
       "      <td>On-Campus</td>\n",
       "      <td>2</td>\n",
       "      <td>3.0</td>\n",
       "      <td>0</td>\n",
       "      <td>0</td>\n",
       "      <td>29805</td>\n",
       "      <td>f</td>\n",
       "      <td>2017-07-25</td>\n",
       "      <td>NaN</td>\n",
       "      <td>1</td>\n",
       "    </tr>\n",
       "    <tr>\n",
       "      <th>4</th>\n",
       "      <td>HR6734</td>\n",
       "      <td>33</td>\n",
       "      <td>HR</td>\n",
       "      <td>UG</td>\n",
       "      <td>Recruitment Agency</td>\n",
       "      <td>2</td>\n",
       "      <td>1.0</td>\n",
       "      <td>5</td>\n",
       "      <td>0</td>\n",
       "      <td>29805</td>\n",
       "      <td>m</td>\n",
       "      <td>2019-05-17</td>\n",
       "      <td>NaN</td>\n",
       "      <td>1</td>\n",
       "    </tr>\n",
       "    <tr>\n",
       "      <th>5</th>\n",
       "      <td>PUR7265</td>\n",
       "      <td>40</td>\n",
       "      <td>Purchasing</td>\n",
       "      <td>UG</td>\n",
       "      <td>Walk-in</td>\n",
       "      <td>3</td>\n",
       "      <td>3.0</td>\n",
       "      <td>7</td>\n",
       "      <td>1</td>\n",
       "      <td>42419</td>\n",
       "      <td>m</td>\n",
       "      <td>2004-04-22</td>\n",
       "      <td>0.02</td>\n",
       "      <td>1</td>\n",
       "    </tr>\n",
       "    <tr>\n",
       "      <th>6</th>\n",
       "      <td>PUR1466</td>\n",
       "      <td>26</td>\n",
       "      <td>Purchasing</td>\n",
       "      <td>UG</td>\n",
       "      <td>Referral</td>\n",
       "      <td>5</td>\n",
       "      <td>5.0</td>\n",
       "      <td>2</td>\n",
       "      <td>0</td>\n",
       "      <td>86750</td>\n",
       "      <td>m</td>\n",
       "      <td>2019-12-10</td>\n",
       "      <td>NaN</td>\n",
       "      <td>1</td>\n",
       "    </tr>\n",
       "    <tr>\n",
       "      <th>7</th>\n",
       "      <td>TECH5426</td>\n",
       "      <td>25</td>\n",
       "      <td>Technology</td>\n",
       "      <td>UG</td>\n",
       "      <td>Recruitment Agency</td>\n",
       "      <td>1</td>\n",
       "      <td>1.0</td>\n",
       "      <td>4</td>\n",
       "      <td>0</td>\n",
       "      <td>24076</td>\n",
       "      <td>Female</td>\n",
       "      <td>2017-03-18</td>\n",
       "      <td>NaN</td>\n",
       "      <td>0</td>\n",
       "    </tr>\n",
       "    <tr>\n",
       "      <th>8</th>\n",
       "      <td>HR6578</td>\n",
       "      <td>35</td>\n",
       "      <td>HR</td>\n",
       "      <td>PG</td>\n",
       "      <td>Referral</td>\n",
       "      <td>3</td>\n",
       "      <td>4.0</td>\n",
       "      <td>0</td>\n",
       "      <td>0</td>\n",
       "      <td>42419</td>\n",
       "      <td>f</td>\n",
       "      <td>2015-04-02</td>\n",
       "      <td>NaN</td>\n",
       "      <td>1</td>\n",
       "    </tr>\n",
       "    <tr>\n",
       "      <th>9</th>\n",
       "      <td>TECH9322</td>\n",
       "      <td>45</td>\n",
       "      <td>Technology</td>\n",
       "      <td>PG</td>\n",
       "      <td>Referral</td>\n",
       "      <td>3</td>\n",
       "      <td>3.0</td>\n",
       "      <td>9</td>\n",
       "      <td>0</td>\n",
       "      <td>42419</td>\n",
       "      <td>f</td>\n",
       "      <td>2004-03-19</td>\n",
       "      <td>0.07</td>\n",
       "      <td>0</td>\n",
       "    </tr>\n",
       "  </tbody>\n",
       "</table>\n",
       "</div>"
      ],
      "text/plain": [
       "     emp_id  age        Dept education    recruitment_type  job_level  rating  \\\n",
       "0    HR8270   28          HR        PG            Referral          5     2.0   \n",
       "1  TECH1860   50  Technology        PG  Recruitment Agency          3     5.0   \n",
       "2  TECH6390   43  Technology        UG            Referral          4     1.0   \n",
       "3   SAL6191   44       Sales        PG           On-Campus          2     3.0   \n",
       "4    HR6734   33          HR        UG  Recruitment Agency          2     1.0   \n",
       "5   PUR7265   40  Purchasing        UG             Walk-in          3     3.0   \n",
       "6   PUR1466   26  Purchasing        UG            Referral          5     5.0   \n",
       "7  TECH5426   25  Technology        UG  Recruitment Agency          1     1.0   \n",
       "8    HR6578   35          HR        PG            Referral          3     4.0   \n",
       "9  TECH9322   45  Technology        PG            Referral          3     3.0   \n",
       "\n",
       "   awards  certifications  salary  gender  entry_date  last_raise  satisfied  \n",
       "0       1               0   86750       m  2019-02-01         NaN          1  \n",
       "1       2               1   42419    Male  2017-01-17         NaN          0  \n",
       "2       2               0   65715       f  2012-08-27         NaN          1  \n",
       "3       0               0   29805       f  2017-07-25         NaN          1  \n",
       "4       5               0   29805       m  2019-05-17         NaN          1  \n",
       "5       7               1   42419       m  2004-04-22        0.02          1  \n",
       "6       2               0   86750       m  2019-12-10         NaN          1  \n",
       "7       4               0   24076  Female  2017-03-18         NaN          0  \n",
       "8       0               0   42419       f  2015-04-02         NaN          1  \n",
       "9       9               0   42419       f  2004-03-19        0.07          0  "
      ]
     },
     "execution_count": 2,
     "metadata": {},
     "output_type": "execute_result"
    }
   ],
   "source": [
    "# Ihre Lösung\n",
    "\n",
    "# daten laden\n",
    "employee_data = pd.read_csv('../data/fiktiva/employees_satisfaction.csv', index_col=0)\n",
    "\n",
    "#head (ersten 10 Zeilen) erzeugen und ausgeben\n",
    "employee_data_head = employee_data.head(10)\n",
    "employee_data_head"
   ]
  },
  {
   "cell_type": "markdown",
   "metadata": {},
   "source": [
    "## Erste Datenanalyse"
   ]
  },
  {
   "cell_type": "markdown",
   "metadata": {},
   "source": [
    "Machen Sie sich mit den Daten vertraut:\n",
    "- Wie viele Zeilen hat der Datensatz?\n",
    "- Wie viele Spalten hat der Datensatz?\n",
    "- Welche Spalten beinhaltet der Datensatz?\n",
    "- Welchen Datentyp haben die einzelnen Spalten?\n",
    "- Ermitteln Sie statistische Kennzeichen der numerischen Spalten.\n",
    "- Gibt es fehlende Werte in den Daten und wenn ja, bei welchen Spalten?"
   ]
  },
  {
   "cell_type": "code",
   "execution_count": 19,
   "metadata": {
    "ExecuteTime": {
     "end_time": "2024-04-17T14:56:31.552179Z",
     "start_time": "2024-04-17T14:56:31.546794Z"
    }
   },
   "outputs": [],
   "source": [
    "# Ihre Lösung (nutzen Sie dafür untenstehende Zellen)"
   ]
  },
  {
   "cell_type": "code",
   "execution_count": 3,
   "metadata": {
    "ExecuteTime": {
     "end_time": "2024-04-20T07:02:05.260247Z",
     "start_time": "2024-04-20T07:02:05.254726Z"
    }
   },
   "outputs": [
    {
     "name": "stdout",
     "output_type": "stream",
     "text": [
      "Der Datensatz hat 500 Zeilen\n"
     ]
    }
   ],
   "source": [
    "# Wie viele Zeilen hat der Datensatz? \n",
    "print(f'Der Datensatz hat {len(employee_data)} Zeilen')"
   ]
  },
  {
   "cell_type": "code",
   "execution_count": 4,
   "metadata": {
    "ExecuteTime": {
     "end_time": "2024-04-20T07:02:07.295054Z",
     "start_time": "2024-04-20T07:02:07.286231Z"
    }
   },
   "outputs": [
    {
     "name": "stdout",
     "output_type": "stream",
     "text": [
      "Der Datensatz hat 14 Spalten\n"
     ]
    }
   ],
   "source": [
    "# Wie viele Spalten hat der Datensatz?\n",
    "print(f'Der Datensatz hat {len(employee_data.transpose())} Spalten')"
   ]
  },
  {
   "cell_type": "code",
   "execution_count": 5,
   "metadata": {
    "ExecuteTime": {
     "end_time": "2024-04-20T07:02:09.325119Z",
     "start_time": "2024-04-20T07:02:09.318969Z"
    }
   },
   "outputs": [
    {
     "name": "stdout",
     "output_type": "stream",
     "text": [
      "emp_id\n",
      "age\n",
      "Dept\n",
      "education\n",
      "recruitment_type\n",
      "job_level\n",
      "rating\n",
      "awards\n",
      "certifications\n",
      "salary\n",
      "gender\n",
      "entry_date\n",
      "last_raise\n",
      "satisfied\n"
     ]
    }
   ],
   "source": [
    "# Welche Spalten beinhaltet der Datensatz?\n",
    "for col in employee_data.columns:\n",
    "    print(col)"
   ]
  },
  {
   "cell_type": "code",
   "execution_count": 6,
   "metadata": {
    "ExecuteTime": {
     "end_time": "2024-04-20T07:02:11.432808Z",
     "start_time": "2024-04-20T07:02:11.422628Z"
    }
   },
   "outputs": [
    {
     "data": {
      "text/plain": [
       "emp_id               object\n",
       "age                   int64\n",
       "Dept                 object\n",
       "education            object\n",
       "recruitment_type     object\n",
       "job_level             int64\n",
       "rating              float64\n",
       "awards                int64\n",
       "certifications        int64\n",
       "salary                int64\n",
       "gender               object\n",
       "entry_date           object\n",
       "last_raise          float64\n",
       "satisfied             int64\n",
       "dtype: object"
      ]
     },
     "execution_count": 6,
     "metadata": {},
     "output_type": "execute_result"
    }
   ],
   "source": [
    "# Welchen Datentyp haben die einzelnen Spalten?\n",
    "datatypes = employee_data.dtypes\n",
    "# Ausgabe der Datentypen. Achtung string und Datumsformate werden hier als object erkannt\n",
    "# satisfied wird auch als numerischer Wert angegeben (entspricht aber einem boolschen Wert)\n",
    "# Evtl. sollte man hier casten bzw. die dtype Option beim einlesen verwenden\n",
    "datatypes "
   ]
  },
  {
   "cell_type": "code",
   "execution_count": 7,
   "metadata": {
    "ExecuteTime": {
     "end_time": "2024-04-20T07:02:13.416395Z",
     "start_time": "2024-04-20T07:02:13.358312Z"
    }
   },
   "outputs": [
    {
     "name": "stdout",
     "output_type": "stream",
     "text": [
      "count    500.000000\n",
      "mean      39.694000\n",
      "std        8.477033\n",
      "min       22.000000\n",
      "25%       34.000000\n",
      "50%       39.000000\n",
      "75%       47.000000\n",
      "max       56.000000\n",
      "Name: age, dtype: float64\n",
      "\n",
      "count    500.000000\n",
      "mean       3.032000\n",
      "std        1.423738\n",
      "min        1.000000\n",
      "25%        2.000000\n",
      "50%        3.000000\n",
      "75%        4.000000\n",
      "max        5.000000\n",
      "Name: job_level, dtype: float64\n",
      "\n",
      "count    471.000000\n",
      "mean       3.093418\n",
      "std        1.423129\n",
      "min        1.000000\n",
      "25%        2.000000\n",
      "50%        3.000000\n",
      "75%        4.000000\n",
      "max        5.000000\n",
      "Name: rating, dtype: float64\n",
      "\n",
      "count    500.000000\n",
      "mean       4.570000\n",
      "std        2.989812\n",
      "min        0.000000\n",
      "25%        2.000000\n",
      "50%        5.000000\n",
      "75%        7.000000\n",
      "max       25.000000\n",
      "Name: awards, dtype: float64\n",
      "\n",
      "count    500.000000\n",
      "mean       0.514000\n",
      "std        0.628167\n",
      "min        0.000000\n",
      "25%        0.000000\n",
      "50%        0.000000\n",
      "75%        1.000000\n",
      "max        9.000000\n",
      "Name: certifications, dtype: float64\n",
      "\n",
      "count      500.000000\n",
      "mean     50416.056000\n",
      "std      23671.392661\n",
      "min      24076.000000\n",
      "25%      29805.000000\n",
      "50%      42419.000000\n",
      "75%      65715.000000\n",
      "max      86750.000000\n",
      "Name: salary, dtype: float64\n",
      "\n",
      "count    26.000000\n",
      "mean      0.049231\n",
      "std       0.029519\n",
      "min       0.010000\n",
      "25%       0.020000\n",
      "50%       0.050000\n",
      "75%       0.077500\n",
      "max       0.100000\n",
      "Name: last_raise, dtype: float64\n",
      "\n",
      "count    500.000000\n",
      "mean       0.714000\n",
      "std        0.452342\n",
      "min        0.000000\n",
      "25%        0.000000\n",
      "50%        1.000000\n",
      "75%        1.000000\n",
      "max        1.000000\n",
      "Name: satisfied, dtype: float64\n",
      "\n"
     ]
    }
   ],
   "source": [
    "# Ermitteln Sie statistische Kennzeichen der numerischen Spalten.\n",
    "# Fehlende Werte werden hier rausgefiltert (eine andere Möglichkeit wäre bspw. \n",
    "# bei last_raise die Werte mit 0 zu ersetzen)\n",
    "\n",
    "# Jede Spalte durchgehen\n",
    "for col in employee_data.columns:\n",
    "    #typ ermitteln\n",
    "    column_dtype = employee_data[col].dtype\n",
    "    if pd.api.types.is_numeric_dtype(column_dtype):\n",
    "        #wenn es ein numerischer typ ist zuerst daten bereinigen (NaN rausfiltern, dann statistic berechnen)\n",
    "        cleaned_data = employee_data.dropna(subset=[col])\n",
    "        stats = cleaned_data[col].describe()\n",
    "        #Ausgabe\n",
    "        print(stats)\n",
    "        print()"
   ]
  },
  {
   "cell_type": "code",
   "execution_count": 8,
   "metadata": {
    "ExecuteTime": {
     "end_time": "2024-04-20T07:02:17.045005Z",
     "start_time": "2024-04-20T07:02:17.038297Z"
    }
   },
   "outputs": [
    {
     "name": "stdout",
     "output_type": "stream",
     "text": [
      "Die Spalte 'rating' hat fehlende Werte\n",
      "Die Spalte 'gender' hat fehlende Werte\n",
      "Die Spalte 'last_raise' hat fehlende Werte\n"
     ]
    }
   ],
   "source": [
    "# Gibt es fehlende Werte in den Daten und wenn ja, bei welchen Spalten?\n",
    "\n",
    "# Alle Spalten durchgehen\n",
    "for col in employee_data.columns:\n",
    "    # Fals Eintrag fehlt wird dieser NaN\n",
    "    if employee_data[col].isna().any():\n",
    "        print(f\"Die Spalte '{col}' hat fehlende Werte\")"
   ]
  },
  {
   "cell_type": "markdown",
   "metadata": {},
   "source": [
    "## Datenqualität\n",
    "\n",
    "<div class=\"alert alert-block alert-warning\">\n",
    "    \n",
    "**Hinweis**: Bei den folgenden Fragen geht es um Ihre Einschätzung. Ziel ist es, sich mit dem Thema Datenqualität auseinanderzusetzen und sich mit Fragestellungen in Bezug auf Data Fitness, etc. zu beschäftigen.\n",
    "    \n",
    "</div>"
   ]
  },
  {
   "cell_type": "markdown",
   "metadata": {},
   "source": [
    "Was denken Sie über den Datensatz? Ist dieser geeignet, um die Fragestellung über die Zufriedenheit der Angestellten zu beantworten? Reichen die angegebenen Informationen zur Beantwortung der Fragestellung aus? Wenn nicht, welche Informationen würden Sie noch verwenden? Begründen Sie Ihre Antworten.\n",
    "\n",
    "Hinweis: Bei der Beurteilung geht es um die Daten selbst, nicht um deren Erhebung. Dazu folgt noch eine Fragestellung."
   ]
  },
  {
   "cell_type": "raw",
   "metadata": {},
   "source": [
    "Ihre Einschätzung:\n",
    "Die Fragestellung lautet: \"Wie zufrieden sind die Angestellten?\" Problematisch sehe ich hierbei, dass das Attribut satisfied offensichtlich als binärer Wert modelliert wurde. Das bedeutet, dass die Angestellten nur angeben konnten, ob sie zufrieden sind oder nicht. In einem Arbeitsverhältnis gibt es viele Aspekte; wenn nun ein Angestellter in einigen Bereichen zufrieden ist und in anderen nicht, muss er sich entscheiden, ob er „zufrieden“ oder „nicht zufrieden“ ist. Besser wäre es hier, eine Skalierung einzuführen, beispielsweise das Vergeben von 1-5 Punkten (1 steht für überhaupt nicht zufrieden, 5 für voll zufrieden). Das würde die Aussagekraft der Umfrage steigern. Weiterhin könnte die Zufriedenheit weiter aufgesplittet werden, wie z. B. „Zufriedenheit mit den Arbeitszeiten“, „Zufriedenheit mit der Arbeitslast“, „Zufriedenheit mit der Kommunikation in der Firma“ usw. So würde sich ein umfassenderes Bild ergeben."
   ]
  },
  {
   "cell_type": "markdown",
   "metadata": {},
   "source": [
    "Für welche weiteren Fragestellungen/Analysen könnte der Datensatz geeignet sein? Zählen Sie mindestens drei sinnvolle Aspekte auf."
   ]
  },
  {
   "cell_type": "raw",
   "metadata": {},
   "source": [
    "Ihre Einschätzung:\n",
    "Man kann den Datensatz clustern und dann für jeden Cluster die durchschnittliche Zufriedenheit ermitteln, um die einzelnen Gruppen zu ordnen. So erkennt man, in welchen Bereichen die Mitarbeiter am zufriedensten bzw. unzufriedensten sind. Mögliche Cluster sind:\n",
    "\n",
    "- Dept: Welche Abteilungen haben die zufriedensten Mitarbeiter?\n",
    "- education: Hat der Ausbildungsgrad einen Einfluss auf die Zufriedenheit?\n",
    "- salary: Welche Auswirkung hat das Gehalt auf die Zufriedenheit?\n",
    "- gender: Gibt es Unterschiede in der Zufriedenheit zwischen den Geschlechtern?\n",
    "- job_level: Steigt die Zufriedenheit mit höherem Joblevel?\n",
    "- rating: Sind höher bewertete Mitarbeiter zufriedener?\n",
    "\n",
    "Diese Analysen können Einsichten in die Faktoren liefern, die die Mitarbeiterzufriedenheit beeinflussen. Sie helfen dem Unternehmen, gezielte Maßnahmen zur Verbesserung der Arbeitsumgebung und zur Steigerung der Mitarbeiterzufriedenheit zu entwickeln."
   ]
  },
  {
   "cell_type": "markdown",
   "metadata": {},
   "source": [
    "Stellen Sie Überlegungen zur Datenerhebung an. Welche Faktoren könnten die Datenqualität beeinträchtigen? \n",
    "Nennen Sie mindestens zwei Einschränkungen und begründen Sie Ihre Antworten."
   ]
  },
  {
   "cell_type": "raw",
   "metadata": {},
   "source": [
    "Ihre Einschätzung:\n",
    "1. Offensichtlich war die Abstimmung nicht anonym. Aus den Daten lassen sich persönliche Rückschlüsse ziehen, welcher Mitarbeiter \"zufrieden\" ist und welcher nicht. Dies kann evtl. über die Mitarbeiter-ID oder über das Gehalt und das Eintrittsdatum erfolgen. Wenn Mitarbeiter befürchten, dass sie Nachteile erleiden, wenn sie mit \"nicht zufrieden\" abstimmen, könnten sie dazu geneigt sein, stattdessen \"zufrieden\" anzugeben.\n",
    "2. Wie bereits erwähnt, ist die Zufriedenheit nicht binär; eine Einteilung in Stufen wäre aussagekräftiger. Die derzeitige binäre Modellierung (zufrieden/unzufrieden) könnte zu einer verzerrten Darstellung der tatsächlichen Mitarbeiterstimmung führen kann.\n",
    "3. Die Daten wurden nur einmalig erhoben. Wenn die Daten zu einem für die Mitarbeiter besonders stressigen oder untypischen Zeitpunkt erfasst wurden, könnte dies die Ergebnisse verzerren. Beispielsweise könnten Mitarbeiter kurz nach einer Gehaltserhöhung oder während eines umfangreichen Projekts temporär zufriedener oder unzufriedener sein als üblich. Regelmäßige Erhebungen über einen längeren Zeitraum hinweg würden ein realistischeres Bild der durchschnittlichen Mitarbeiterzufriedenheit liefern und saisonale oder ereignisspezifische Schwankungen ausgleichen."
   ]
  },
  {
   "cell_type": "markdown",
   "metadata": {},
   "source": [
    "Beurteilen Sie den Datensatz bzgl. der Aspekte zur Datenqualität, die Sie im Kurstext in Kapitel 3 unter \"Assessing Data Integrity\" kennengelernt haben. Begründen Sie Ihre Antworten."
   ]
  },
  {
   "cell_type": "code",
   "execution_count": 14,
   "metadata": {
    "ExecuteTime": {
     "end_time": "2024-04-20T07:55:35.883673Z",
     "start_time": "2024-04-20T07:55:35.855402Z"
    }
   },
   "outputs": [
    {
     "name": "stdout",
     "output_type": "stream",
     "text": [
      "education\n",
      "PG    254\n",
      "UG    246\n",
      "dtype: int64\n",
      "\n",
      "recruitment_type\n",
      "Referral              140\n",
      "Recruitment Agency    132\n",
      "Walk-in               116\n",
      "On-Campus             112\n",
      "dtype: int64\n",
      "gender\n",
      "m         207\n",
      "f         187\n",
      "Male       57\n",
      "Female     46\n",
      "dtype: int64\n",
      "497\n",
      "\n",
      "rating\n",
      "4.0    111\n",
      "5.0    100\n",
      "1.0     89\n",
      "2.0     89\n",
      "3.0     82\n",
      "dtype: int64\n",
      "471\n",
      "\n",
      "last_raise\n",
      "0.05    6\n",
      "0.01    5\n",
      "0.02    3\n",
      "0.04    3\n",
      "0.08    3\n",
      "0.09    3\n",
      "0.07    2\n",
      "0.10    1\n",
      "dtype: int64\n",
      "26\n",
      "\n",
      "Dept\n",
      "Purchasing    114\n",
      "HR            106\n",
      "Technology     98\n",
      "Marketing      95\n",
      "Sales          87\n",
      "dtype: int64\n",
      "500\n"
     ]
    }
   ],
   "source": [
    "# In dieser Zelle haben Sie Platz für Analysen bzgl. der Datenqualität\n",
    "# Bewertet werden aber nur Ihre Antworten in der untenstehenden Raw-Zelle, gekennzeichnet mit \"Ihre Einschätzung\"!\n",
    "print(employee_data.value_counts('education'))\n",
    "print()\n",
    "print(employee_data.value_counts('recruitment_type'))\n",
    "\n",
    "print(employee_data.value_counts('gender'))\n",
    "print(sum(employee_data.value_counts('gender')))\n",
    "print()\n",
    "print(employee_data.value_counts('rating'))\n",
    "print(sum(employee_data.value_counts('rating')))\n",
    "print()\n",
    "print(employee_data.value_counts('last_raise'))\n",
    "print(sum(employee_data.value_counts('last_raise')))\n",
    "print()\n",
    "print(employee_data.value_counts('Dept'))\n",
    "print(sum(employee_data.value_counts('Dept')))"
   ]
  },
  {
   "cell_type": "raw",
   "metadata": {},
   "source": [
    "Ihre Einschätzung:\n",
    "- Is It Timely: Ja, die Daten sind aktuell, da sie, wie vorausgesetzt, Anfang März 2021 ausgewertet wurden.\n",
    "- Is It Complete: Ja, laut Newsletter gibt es 500 Mitarbeiter, und der Datensatz besteht aus 500 Einträgen.\n",
    "- Is It Well-Annotated: Teilweise.\n",
    "    - 'education': Es wird nicht erklärt, was PG und UG bedeuten. Obwohl eine Internet-Recherche ergab, dass UG für \"undergraduate\" und PG für \"postgraduate\" steht, wäre es hilfreich, diese Abkürzungen direkt in der metadata.txt zu erläutern.\n",
    "    - 'recruitment_type': Die verschiedenen Typen des Attributs sollten in den Metadaten beschrieben werden.\n",
    "    - 'job_level': Die Bedeutung der Stufen 1-5 ist nicht vollständig klar, außer dass Stufe 1 die niedrigste und 5 die höchste ist.\n",
    "    - 'awards': Es ist unklar, was genau unter \"awards\" zu verstehen ist. Falls es sich um Ehrungen bzgl. Dienstdauer handelt, könnte diese Information möglicherweise durch das entry_date abgedeckt sein.\n",
    "    - 'certifications': Was es bedeutet, zertifiziert zu sein, ist aus den Metadaten nicht ersichtlich.\n",
    "    - 'last_raise': Es ist nicht definiert, was ein leeres Feld bedeutet (möglicherweise, dass es noch nie eine Gehaltserhöhung gab).\n",
    "- Is It High Volume: Ja, aber mit Einschränkungen aufgrund fehlender Werte bei gender, rating und last_raise.\n",
    "    - 'gender': Hier fehlen 3 Einträge. Bei der Clusterung nach Geschlecht könnten diese Einträge herausgefiltert oder durch den häufigsten Wert (in diesem Fall 'm') ersetzt werden.\n",
    "    - 'rating': 29 Felder fehlen. Eine ähnliche Vorgehensweise wie bei gender ist möglich.\n",
    "    - 'last_raise': Dieser Wert ist nur in 26 Fällen ausgefüllt. Es muss geklärt werden, was ein leerer Wert bedeutet.\n",
    "- Is It Consisten: Ja, wie aus statistischen Werten der numerischen Felder ersichtlich.\n",
    "- Is It Multivariate: Ja, es gibt 14 Spalten, wobei awards und entry_date möglicherweise dasselbe aussagen.\n",
    "- Is It Atomic: Ja, es gibt für jeden Mitarbeiter eindeutige Datenfelder.\n",
    "- Is It Clear: Abgesehen von den Einträgen PG und UG in der Spalte education ja.\n",
    "- Is It Dimensionally Structured: Ja, man kann beispielsweise anhand der Abteilung oder des Alters clustern.\n",
    "- Validity: Die beschriebenen Probleme bei der Art der Datenerhebung könnten die Validität beeinflussen.\n",
    "- Reliability: Wie bereits erwähnt, könnte die satisfied-Spalte durch eine 1-5-Skala modelliert werden, um eine zuverlässigere Darstellung der Mitarbeiterzufriedenheit zu ermöglichen.\n",
    "- Representativeness: Ist gegeben, da jeder Mitarbeiter im Datensatz abgebildet ist."
   ]
  },
  {
   "cell_type": "markdown",
   "metadata": {},
   "source": [
    "Stellen Sie sich vor, dieser Datensatz soll dazu verwendet werden, um die Zufriedenheit von Angestellten vorherzusagen und daraus wiederum Rückschlüsse auf das Kündigungswahrscheinlichkeiten zu schließen. Für wie zuverlässig würden Sie entsprechende Wahrscheinlichkeiten halten? Begründen Sie Ihre Antwort."
   ]
  },
  {
   "cell_type": "raw",
   "metadata": {},
   "source": [
    "Ihre Einschätzung:\n",
    "Ich schätze die Zuverlässigkeit der Vorhersagen auf Basis dieses Datensatzes als moderat ein. Ein wesentliches Problem ist, wie bereits mehrfach erwähnt, dass das Attribut satisfied als binärer Wert modelliert wurde, statt als differenzierte Skala. Diese Darstellung kann die Mitarbeiterzufriedenheit nicht vollständig einfangen, was die Vorhersagegenauigkeit bezüglich der Kündigungswahrscheinlichkeiten beeinträchtigen kann. Eine detailliertere Erfassung der Zufriedenheit in verschiedenen Arbeitsbereichen würde eine präzisere Analyse und damit verlässlichere Vorhersagen ermöglichen.\n",
    "\n",
    "Ein weiterer kritischer Punkt ist die nicht anonyme Datenerfassung, die möglicherweise zu Verzerrungen führt, da Mitarbeiter aus Furcht vor Nachteilen nicht ihre wahre Zufriedenheit ausdrücken könnten. Dies könnte die Validität der Daten erheblich beeinträchtigen.\n",
    "\n",
    "Für eine robustere Vorhersage der Kündigungswahrscheinlichkeiten wäre es zudem vorteilhaft, regelmäßige Erhebungen durchzuführen, bspw. in quartalsweisen Abständen. Diese könnten dann direkt mit dem Kündigungsverhalten der Mitarbeiter verknüpft werden, um Trends und Muster über die Zeit zu erkennen und vorherzusagen. Diese regelmäßigen Datenpunkte würden es ermöglichen, die Veränderungen in der Zufriedenheit besser zu verstehen und frühzeitig Indikatoren für mögliche Kündigungen zu identifizieren."
   ]
  },
  {
   "cell_type": "markdown",
   "metadata": {},
   "source": [
    "Nehmen Sie an, mithilfe des Datensatzes wäre ein zuverlässiges Modell mit guten Vorhersagewahrscheinlichkeiten trainiert worden, um die Zufriedenheit der Angestellten zu bestimmen. Nun möchte eine andere Firma aus der gleichen Branche dasselbe Modell für ihre Angestellten nutzen. Denken Sie, das Modell würde auch für die andere Firma zuverlässige Vorhersagen treffen? Begründen Sie Ihre Antwort."
   ]
  },
  {
   "cell_type": "raw",
   "metadata": {},
   "source": [
    "Ihre Einschätzung:\n",
    "Es gibt viele Bereiche, in denen sich Unternehmen unterscheiden, und das beschränkt sich nicht nur auf die Branche. Beispiele hierfür sind die Firmenkultur und der Umgang der Führungspersonen mit ihren Mitarbeitern. Deshalb glaube ich nicht, dass sich die Daten in der vorliegenden Form, die lediglich ein binäres Zufriedenheitsattribut verwenden, eignen. Vor einer Anwendung müsste vor allem eine Validierung des Modells erfolgen, und es sollte gegebenenfalls angepasst werden."
   ]
  },
  {
   "cell_type": "markdown",
   "metadata": {},
   "source": [
    "Überlegen Sie, welche Vorverarbeitungsschritte für den Datensatz notwendig wären. Nennen Sie mindestens drei sinnvolle Vorverarbeitungsschritte."
   ]
  },
  {
   "cell_type": "raw",
   "metadata": {},
   "source": [
    "Ihre Einschätzung:\n",
    "1. Gender anpassen: Die Werte in der Spalte 'gender' sind nicht einheitlich und umfassen 'm', 'Male', 'f' und 'Female', wobei 'f' und 'Female' sowie 'm' und 'Male' dasselbe ausdrücken. Diese Werte sollten vereinheitlicht werden, indem 'm' zu 'Male' und 'f' zu 'Female' geändert wird.\n",
    "2. Fehlende Werte auffüllen: Einige Spalten weisen fehlende Werte auf:\n",
    "    - 'gender': Hier kann man entweder die fehlenden Werte mit dem am häufigsten vorkommenden Wert ersetzen oder die Einträge herausfiltern.\n",
    "    - 'rating': Dasselbe Vorgehen wie bei 'gender'.\n",
    "    - 'last_raise': Es muss festgestellt werden, was ein leerer Wert bedeutet. Falls ein leerer Wert bedeutet, dass es noch nie eine Gehaltserhöhung gab, könnte man diese mit '0' ersetzen.\n",
    "3. Umwandlung in korrekten Datentyp: Einige Spalten enthalten Strings und Datumsformate, die in pandas als 'object' typisiert sind. Diese Werte sollten in die entsprechenden Datentypen umgewandelt werden, beispielsweise Datumsangaben in 'datetime' und strings in 'str'. "
   ]
  }
 ],
 "metadata": {
  "kernelspec": {
   "display_name": "Python 3 (ipykernel)",
   "language": "python",
   "name": "python3"
  },
  "language_info": {
   "codemirror_mode": {
    "name": "ipython",
    "version": 3
   },
   "file_extension": ".py",
   "mimetype": "text/x-python",
   "name": "python",
   "nbconvert_exporter": "python",
   "pygments_lexer": "ipython3",
   "version": "3.10.8"
  },
  "toc": {
   "base_numbering": "1",
   "nav_menu": {},
   "number_sections": true,
   "sideBar": true,
   "skip_h1_title": true,
   "title_cell": "Table of Contents",
   "title_sidebar": "Contents",
   "toc_cell": false,
   "toc_position": {
    "height": "calc(100% - 180px)",
    "left": "10px",
    "top": "150px",
    "width": "307.2px"
   },
   "toc_section_display": true,
   "toc_window_display": true
  }
 },
 "nbformat": 4,
 "nbformat_minor": 4
}
